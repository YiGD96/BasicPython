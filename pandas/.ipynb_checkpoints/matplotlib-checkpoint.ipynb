{
 "cells": [
  {
   "cell_type": "code",
   "execution_count": 3,
   "id": "7a571553-b116-40fd-b5d5-800b63051ef8",
   "metadata": {},
   "outputs": [
    {
     "data": {
      "text/plain": [
       "'Windows-10-10.0.19041-SP0'"
      ]
     },
     "execution_count": 3,
     "metadata": {},
     "output_type": "execute_result"
    }
   ],
   "source": [
    "import platform\n",
    "platform.platform()"
   ]
  },
  {
   "cell_type": "code",
   "execution_count": 4,
   "id": "d6088ba2-5317-4179-ade1-9375e0676d7e",
   "metadata": {},
   "outputs": [
    {
     "data": {
      "text/plain": [
       "sys.version_info(major=3, minor=8, micro=8, releaselevel='final', serial=0)"
      ]
     },
     "execution_count": 4,
     "metadata": {},
     "output_type": "execute_result"
    }
   ],
   "source": [
    "import sys\n",
    "sys.version_info"
   ]
  },
  {
   "cell_type": "code",
   "execution_count": 6,
   "id": "9ad1fbe3-2fbe-423d-9b2e-88a5527e6a88",
   "metadata": {},
   "outputs": [
    {
     "name": "stdout",
     "output_type": "stream",
     "text": [
      "버전 : 3.3.4\n",
      "설치위치 : C:\\Users\\PKNU\\anaconda3\\lib\\site-packages\\matplotlib\\__init__.py\n",
      "설정 : C:\\Users\\PKNU\\.matplotlib\n",
      "캐시 : C:\\Users\\PKNU\\.matplotlib\n"
     ]
    }
   ],
   "source": [
    "import matplotlib as mat\n",
    "print('버전 :',mat.__version__)\n",
    "print('설치위치 :',mat.__file__)\n",
    "print('설정 :',mat.get_configdir())\n",
    "print('캐시 :',mat.get_cachedir())"
   ]
  },
  {
   "cell_type": "code",
   "execution_count": 14,
   "id": "ad850ba3-4ea9-4a5b-8a4e-d78e86a11c89",
   "metadata": {},
   "outputs": [],
   "source": [
    "import matplotlib.pyplot as plt\n",
    "import matplotlib.font_manager as fm\n",
    "import warnings\n",
    "warnings.filterwarnings('ignore')"
   ]
  },
  {
   "cell_type": "code",
   "execution_count": 10,
   "id": "27db6dec-beac-4fcf-8981-e80aa1018a11",
   "metadata": {},
   "outputs": [
    {
     "data": {
      "text/plain": [
       "array([ -29,    3,   27,   -9,   42,  141,  190,  289,  255,  305,  273,\n",
       "        237,  283,  304,  249,  180,  223,  261,  187,  163,   66,  -17,\n",
       "        -73,  -49,   -7,  -81,  -91,  -89, -174, -142, -110, -107, -118,\n",
       "        -76,  -62, -128, -192, -167, -150, -139], dtype=int32)"
      ]
     },
     "execution_count": 10,
     "metadata": {},
     "output_type": "execute_result"
    }
   ],
   "source": [
    "import numpy as np\n",
    "data = np.random.randint(-100,100,40).cumsum()\n",
    "data"
   ]
  },
  {
   "cell_type": "code",
   "execution_count": 19,
   "id": "c93215a1-59c0-41ff-9db1-2e70a17d43bb",
   "metadata": {},
   "outputs": [
    {
     "data": {
      "text/plain": [
       "Text(0.5, 1.0, '시간별 가격 추이')"
      ]
     },
     "execution_count": 19,
     "metadata": {},
     "output_type": "execute_result"
    },
    {
     "data": {
      "image/png": "[encoded data removed]",
      "text/plain": [
       "<Figure size 432x288 with 1 Axes>"
      ]
     },
     "metadata": {
      "needs_background": "light"
     },
     "output_type": "display_data"
    }
   ],
   "source": [
    "plt.plot(range(40),data,'r')\n",
    "plt.title('시간별 가격 추이')"
   ]
  },
  {
   "cell_type": "code",
   "execution_count": 16,
   "id": "774859bd-c8dc-4d4a-9445-02a57fb3f7f3",
   "metadata": {},
   "outputs": [
    {
     "name": "stdout",
     "output_type": "stream",
     "text": [
      "설정파일위치 : C:\\Users\\PKNU\\anaconda3\\lib\\site-packages\\matplotlib\\mpl-data\\matplotlibrc\n"
     ]
    }
   ],
   "source": [
    "print('설정파일위치 :',mat.matplotlib_fname()) # 이위치에 설치하면 영구적으로 사용가능하다 (단 가끔 사용 못함)"
   ]
  },
  {
   "cell_type": "code",
   "execution_count": 18,
   "id": "82b6e4fc-d4a7-4be2-8bff-da8ffa314249",
   "metadata": {},
   "outputs": [
    {
     "data": {
      "text/plain": [
       "[('NanumSquare', 'C:\\\\Windows\\\\Fonts\\\\NanumSquareR.ttf'),\n",
       " ('NanumBarunpen', 'C:\\\\Windows\\\\Fonts\\\\NanumBarunpenR.ttf'),\n",
       " ('NanumBarunpen', 'C:\\\\WINDOWS\\\\Fonts\\\\NanumBarunpenR.ttf'),\n",
       " ('NanumSquare', 'C:\\\\WINDOWS\\\\Fonts\\\\NanumSquareR.ttf')]"
      ]
     },
     "execution_count": 18,
     "metadata": {},
     "output_type": "execute_result"
    }
   ],
   "source": [
    "[(f.name,f.fname) for f in fm.fontManager.ttflist if 'Nanum' in f.name] #전체 폰트중에 나눔 들어간 것 찾기"
   ]
  },
  {
   "cell_type": "code",
   "execution_count": null,
   "id": "448ac395-160d-4363-a8b6-74e68fb7a731",
   "metadata": {},
   "outputs": [],
   "source": [
    "fm._rebuild()         # 위에 폰트 인식 못했을 경우"
   ]
  },
  {
   "cell_type": "raw",
   "id": "cee86bc7-3ce0-4cb8-878d-750344ac181b",
   "metadata": {},
   "source": [
    "폰트를 사용하는 방법\n",
    "1. FontProperties를 사용하는 방법 - 그래프의 폰트가 필요한 항목마다 지정해주어야한다."
   ]
  },
  {
   "cell_type": "code",
   "execution_count": 25,
   "id": "4692abbb-6ee9-467e-82f5-7f10d1751a5f",
   "metadata": {},
   "outputs": [
    {
     "data": {
      "text/plain": [
       "Text(0, 0.5, '가격')"
      ]
     },
     "execution_count": 25,
     "metadata": {},
     "output_type": "execute_result"
    },
    {
     "data": {
      "image/png": "[encoded data removed]",
      "text/plain": [
       "<Figure size 432x288 with 1 Axes>"
      ]
     },
     "metadata": {
      "needs_background": "light"
     },
     "output_type": "display_data"
    }
   ],
   "source": [
    "path = 'NanumMyeongjoExtraBold.ttf'\n",
    "fontprop = fm.FontProperties(fname=path,size=20)\n",
    "\n",
    "plt.plot(range(40),data,'r')\n",
    "plt.title('시간별 가격 추이',fontproperties=fontprop)\n",
    "plt.xlabel('시간(분)',fontproperties=fontprop)\n",
    "plt.ylabel('가격',fontproperties=fontprop)"
   ]
  },
  {
   "cell_type": "raw",
   "id": "34085e5b-2bcc-4492-a60f-8e726dc61324",
   "metadata": {},
   "source": [
    "2. matplotlib.rcParams[]으로 전역 글꼴 설정 방법 - 그래프에 설정을 해두면 폰트가 필요한 항목에 적용됨"
   ]
  },
  {
   "cell_type": "code",
   "execution_count": null,
   "id": "c64a413a-6dc8-4d8d-b480-c27955637daa",
   "metadata": {},
   "outputs": [],
   "source": []
  }
 ],
 "metadata": {
  "kernelspec": {
   "display_name": "Python 3",
   "language": "python",
   "name": "python3"
  },
  "language_info": {
   "codemirror_mode": {
    "name": "ipython",
    "version": 3
   },
   "file_extension": ".py",
   "mimetype": "text/x-python",
   "name": "python",
   "nbconvert_exporter": "python",
   "pygments_lexer": "ipython3",
   "version": "3.8.8"
  }
 },
 "nbformat": 4,
 "nbformat_minor": 5
}
