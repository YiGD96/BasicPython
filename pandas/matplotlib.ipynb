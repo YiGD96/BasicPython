{
 "cells": [
  {
   "cell_type": "code",
   "execution_count": 4,
   "id": "7a571553-b116-40fd-b5d5-800b63051ef8",
   "metadata": {},
   "outputs": [
    {
     "data": {
      "text/plain": [
       "'Windows-10-10.0.19041-SP0'"
      ]
     },
     "execution_count": 4,
     "metadata": {},
     "output_type": "execute_result"
    }
   ],
   "source": [
    "import platform\n",
    "platform.platform()"
   ]
  },
  {
   "cell_type": "code",
   "execution_count": 5,
   "id": "d6088ba2-5317-4179-ade1-9375e0676d7e",
   "metadata": {},
   "outputs": [
    {
     "data": {
      "text/plain": [
       "sys.version_info(major=3, minor=8, micro=8, releaselevel='final', serial=0)"
      ]
     },
     "execution_count": 5,
     "metadata": {},
     "output_type": "execute_result"
    }
   ],
   "source": [
    "import sys\n",
    "sys.version_info"
   ]
  },
  {
   "cell_type": "code",
   "execution_count": 6,
   "id": "9ad1fbe3-2fbe-423d-9b2e-88a5527e6a88",
   "metadata": {},
   "outputs": [
    {
     "name": "stdout",
     "output_type": "stream",
     "text": [
      "버전 : 3.3.4\n",
      "설치위치 : C:\\Users\\PKNU\\anaconda3\\lib\\site-packages\\matplotlib\\__init__.py\n",
      "설정 : C:\\Users\\PKNU\\.matplotlib\n",
      "캐시 : C:\\Users\\PKNU\\.matplotlib\n"
     ]
    }
   ],
   "source": [
    "import matplotlib as mat\n",
    "print('버전 :',mat.__version__)\n",
    "print('설치위치 :',mat.__file__)\n",
    "print('설정 :',mat.get_configdir())\n",
    "print('캐시 :',mat.get_cachedir())"
   ]
  },
  {
   "cell_type": "code",
   "execution_count": 8,
   "id": "ad850ba3-4ea9-4a5b-8a4e-d78e86a11c89",
   "metadata": {},
   "outputs": [],
   "source": [
    "import matplotlib.pyplot as plt\n",
    "import matplotlib.font_manager as fm\n",
    "import warnings\n",
    "warnings.filterwarnings('ignore')"
   ]
  },
  {
   "cell_type": "code",
   "execution_count": 9,
   "id": "27db6dec-beac-4fcf-8981-e80aa1018a11",
   "metadata": {},
   "outputs": [
    {
     "data": {
      "text/plain": [
       "array([ -88, -116, -161, -201, -196, -179, -277, -313, -241, -288, -305,\n",
       "       -361, -370, -435, -439, -429, -484, -521, -596, -565, -579, -643,\n",
       "       -587, -660, -717, -773, -826, -769, -726, -776, -781, -712, -754,\n",
       "       -710, -742, -818, -816, -886, -882, -797], dtype=int32)"
      ]
     },
     "execution_count": 9,
     "metadata": {},
     "output_type": "execute_result"
    }
   ],
   "source": [
    "import numpy as np\n",
    "data = np.random.randint(-100,100,40).cumsum()\n",
    "data"
   ]
  },
  {
   "cell_type": "code",
   "execution_count": 6,
   "id": "c93215a1-59c0-41ff-9db1-2e70a17d43bb",
   "metadata": {},
   "outputs": [
    {
     "data": {
      "text/plain": [
       "Text(0.5, 1.0, '시간별 가격 추이')"
      ]
     },
     "execution_count": 6,
     "metadata": {},
     "output_type": "execute_result"
    },
    {
     "data": {
      "image/png": "[encoded data removed]",
      "text/plain": [
       "<Figure size 432x288 with 1 Axes>"
      ]
     },
     "metadata": {
      "needs_background": "light"
     },
     "output_type": "display_data"
    }
   ],
   "source": [
    "plt.plot(range(40),data,'r')\n",
    "plt.title('시간별 가격 추이')"
   ]
  },
  {
   "cell_type": "code",
   "execution_count": 20,
   "id": "82b6e4fc-d4a7-4be2-8bff-da8ffa314249",
   "metadata": {},
   "outputs": [
    {
     "data": {
      "text/plain": [
       "[('NanumGothic',\n",
       "  'C:\\\\Users\\\\PKNU\\\\AppData\\\\Local\\\\Microsoft\\\\Windows\\\\Fonts\\\\NanumGothic.ttf'),\n",
       " ('NanumMyeongjo',\n",
       "  'C:\\\\Users\\\\PKNU\\\\AppData\\\\Local\\\\Microsoft\\\\Windows\\\\Fonts\\\\NanumMyeongjoBold.ttf'),\n",
       " ('Nanum Pen Script',\n",
       "  'C:\\\\Users\\\\PKNU\\\\AppData\\\\Local\\\\Microsoft\\\\Windows\\\\Fonts\\\\NanumPen.ttf'),\n",
       " ('NanumMyeongjo',\n",
       "  'C:\\\\Users\\\\PKNU\\\\AppData\\\\Local\\\\Microsoft\\\\Windows\\\\Fonts\\\\NanumMyeongjoExtraBold.ttf'),\n",
       " ('NanumSquare', 'C:\\\\WINDOWS\\\\Fonts\\\\NanumSquareR.ttf'),\n",
       " ('NanumSquare',\n",
       "  'C:\\\\Users\\\\PKNU\\\\AppData\\\\Local\\\\Microsoft\\\\Windows\\\\Fonts\\\\NanumSquareL.ttf'),\n",
       " ('NanumSquare',\n",
       "  'C:\\\\Users\\\\PKNU\\\\AppData\\\\Local\\\\Microsoft\\\\Windows\\\\Fonts\\\\NanumSquareB.ttf'),\n",
       " ('NanumGothic',\n",
       "  'C:\\\\Users\\\\PKNU\\\\AppData\\\\Local\\\\Microsoft\\\\Windows\\\\Fonts\\\\NanumGothicBold.ttf'),\n",
       " ('NanumBarunGothic',\n",
       "  'C:\\\\Users\\\\PKNU\\\\AppData\\\\Local\\\\Microsoft\\\\Windows\\\\Fonts\\\\NanumBarunGothicLight.ttf'),\n",
       " ('NanumSquare_ac',\n",
       "  'C:\\\\Users\\\\PKNU\\\\AppData\\\\Local\\\\Microsoft\\\\Windows\\\\Fonts\\\\NanumSquare_acL.ttf'),\n",
       " ('NanumMyeongjo Eco',\n",
       "  'C:\\\\Users\\\\PKNU\\\\AppData\\\\Local\\\\Microsoft\\\\Windows\\\\Fonts\\\\NanumMyeongjoEcoR.ttf'),\n",
       " ('NanumGothic',\n",
       "  'C:\\\\Users\\\\PKNU\\\\AppData\\\\Local\\\\Microsoft\\\\Windows\\\\Fonts\\\\NanumGothicExtraBold.ttf'),\n",
       " ('NanumBarunpen', 'C:\\\\Windows\\\\Fonts\\\\NanumBarunpenR.ttf'),\n",
       " ('NanumBarunGothic',\n",
       "  'C:\\\\Users\\\\PKNU\\\\AppData\\\\Local\\\\Microsoft\\\\Windows\\\\Fonts\\\\NanumBarunGothicUltraLight.ttf'),\n",
       " ('NanumBarunGothic YetHangul',\n",
       "  'C:\\\\Users\\\\PKNU\\\\AppData\\\\Local\\\\Microsoft\\\\Windows\\\\Fonts\\\\NanumBarunGothic-YetHangul.ttf'),\n",
       " ('NanumSquare',\n",
       "  'C:\\\\Users\\\\PKNU\\\\AppData\\\\Local\\\\Microsoft\\\\Windows\\\\Fonts\\\\NanumSquareEB.ttf'),\n",
       " ('NanumSquare',\n",
       "  'C:\\\\Users\\\\PKNU\\\\AppData\\\\Local\\\\Microsoft\\\\Windows\\\\Fonts\\\\NanumSquareR.ttf'),\n",
       " ('NanumSquare_ac',\n",
       "  'C:\\\\Users\\\\PKNU\\\\AppData\\\\Local\\\\Microsoft\\\\Windows\\\\Fonts\\\\NanumSquare_0.ttf'),\n",
       " ('NanumBarunGothic',\n",
       "  'C:\\\\Users\\\\PKNU\\\\AppData\\\\Local\\\\Microsoft\\\\Windows\\\\Fonts\\\\NanumBarunGothic.ttf'),\n",
       " ('NanumBarunGothic',\n",
       "  'C:\\\\Users\\\\PKNU\\\\AppData\\\\Local\\\\Microsoft\\\\Windows\\\\Fonts\\\\NanumBarunGothicBold.ttf'),\n",
       " ('NanumGothic Eco',\n",
       "  'C:\\\\Users\\\\PKNU\\\\AppData\\\\Local\\\\Microsoft\\\\Windows\\\\Fonts\\\\NanumGothicEcoR.ttf'),\n",
       " ('NanumSquareRound',\n",
       "  'C:\\\\Users\\\\PKNU\\\\AppData\\\\Local\\\\Microsoft\\\\Windows\\\\Fonts\\\\NanumSquareRoundR.ttf'),\n",
       " ('NanumBarunpen',\n",
       "  'C:\\\\Users\\\\PKNU\\\\AppData\\\\Local\\\\Microsoft\\\\Windows\\\\Fonts\\\\NanumBarunpenB.ttf'),\n",
       " ('NanumBarunpen', 'C:\\\\WINDOWS\\\\Fonts\\\\NanumBarunpenR.ttf'),\n",
       " ('NanumBarunpen',\n",
       "  'C:\\\\Users\\\\PKNU\\\\AppData\\\\Local\\\\Microsoft\\\\Windows\\\\Fonts\\\\NanumBarunpenR.ttf'),\n",
       " ('NanumGothicCoding',\n",
       "  'C:\\\\Users\\\\PKNU\\\\AppData\\\\Local\\\\Microsoft\\\\Windows\\\\Fonts\\\\NanumGothicCoding.ttf'),\n",
       " ('NanumSquareRound',\n",
       "  'C:\\\\Users\\\\PKNU\\\\AppData\\\\Local\\\\Microsoft\\\\Windows\\\\Fonts\\\\NanumSquareRoundEB.ttf'),\n",
       " ('NanumGothic',\n",
       "  'C:\\\\Users\\\\PKNU\\\\AppData\\\\Local\\\\Microsoft\\\\Windows\\\\Fonts\\\\NanumGothicLight.ttf'),\n",
       " ('NanumSquare_ac',\n",
       "  'C:\\\\Users\\\\PKNU\\\\AppData\\\\Local\\\\Microsoft\\\\Windows\\\\Fonts\\\\NanumSquare_acR.ttf'),\n",
       " ('NanumGothicCoding',\n",
       "  'C:\\\\Users\\\\PKNU\\\\AppData\\\\Local\\\\Microsoft\\\\Windows\\\\Fonts\\\\NanumGothicCodingBold.ttf'),\n",
       " ('Nanum Brush Script',\n",
       "  'C:\\\\Users\\\\PKNU\\\\AppData\\\\Local\\\\Microsoft\\\\Windows\\\\Fonts\\\\NanumBrush.ttf'),\n",
       " ('NanumMyeongjo YetHangul',\n",
       "  'C:\\\\Users\\\\PKNU\\\\AppData\\\\Local\\\\Microsoft\\\\Windows\\\\Fonts\\\\NanumMyeongjo-YetHangul.ttf'),\n",
       " ('NanumSquareRound',\n",
       "  'C:\\\\Users\\\\PKNU\\\\AppData\\\\Local\\\\Microsoft\\\\Windows\\\\Fonts\\\\NanumSquareRoundB.ttf'),\n",
       " ('NanumMyeongjo',\n",
       "  'C:\\\\Users\\\\PKNU\\\\AppData\\\\Local\\\\Microsoft\\\\Windows\\\\Fonts\\\\NanumMyeongjo.ttf'),\n",
       " ('NanumSquareRound',\n",
       "  'C:\\\\Users\\\\PKNU\\\\AppData\\\\Local\\\\Microsoft\\\\Windows\\\\Fonts\\\\NanumSquareRoundL.ttf'),\n",
       " ('NanumSquare', 'C:\\\\Windows\\\\Fonts\\\\NanumSquareR.ttf'),\n",
       " ('NanumSquare_ac',\n",
       "  'C:\\\\Users\\\\PKNU\\\\AppData\\\\Local\\\\Microsoft\\\\Windows\\\\Fonts\\\\NanumSquare.ttf')]"
      ]
     },
     "execution_count": 20,
     "metadata": {},
     "output_type": "execute_result"
    }
   ],
   "source": [
    "[(f.name,f.fname) for f in fm.fontManager.ttflist if 'Nanum' in f.name] #전체 폰트중에 나눔 들어간 것 찾기"
   ]
  },
  {
   "cell_type": "code",
   "execution_count": 10,
   "id": "448ac395-160d-4363-a8b6-74e68fb7a731",
   "metadata": {},
   "outputs": [],
   "source": [
    "fm._rebuild()         # 위에 폰트 인식 못했을 경우"
   ]
  },
  {
   "cell_type": "raw",
   "id": "cee86bc7-3ce0-4cb8-878d-750344ac181b",
   "metadata": {},
   "source": [
    "폰트를 사용하는 방법\n",
    "1. FontProperties를 사용하는 방법 - 그래프의 폰트가 필요한 항목마다 지정해주어야한다."
   ]
  },
  {
   "cell_type": "code",
   "execution_count": 12,
   "id": "4692abbb-6ee9-467e-82f5-7f10d1751a5f",
   "metadata": {},
   "outputs": [
    {
     "data": {
      "text/plain": [
       "Text(0, 0.5, '가격')"
      ]
     },
     "execution_count": 12,
     "metadata": {},
     "output_type": "execute_result"
    },
    {
     "data": {
      "image/png": "[encoded data removed]",
      "text/plain": [
       "<Figure size 432x288 with 1 Axes>"
      ]
     },
     "metadata": {
      "needs_background": "light"
     },
     "output_type": "display_data"
    }
   ],
   "source": [
    "path = 'NanumMyeongjoExtraBold.ttf'\n",
    "fontprop = fm.FontProperties(fname=path,size=15)\n",
    "\n",
    "plt.plot(range(40),data,'r')\n",
    "plt.title('시간별 가격 추이',fontproperties=fontprop)\n",
    "plt.xlabel('시간(분)',fontproperties=fontprop)\n",
    "plt.ylabel('가격',fontproperties=fontprop)"
   ]
  },
  {
   "cell_type": "raw",
   "id": "34085e5b-2bcc-4492-a60f-8e726dc61324",
   "metadata": {},
   "source": [
    "2. matplotlib.rcParams[]으로 전역 글꼴 설정 방법 - 그래프에 설정을 해두면 폰트가 필요한 항목에 적용됨"
   ]
  },
  {
   "cell_type": "code",
   "execution_count": 13,
   "id": "774859bd-c8dc-4d4a-9445-02a57fb3f7f3",
   "metadata": {},
   "outputs": [
    {
     "name": "stdout",
     "output_type": "stream",
     "text": [
      "설정파일위치 : C:\\Users\\PKNU\\anaconda3\\lib\\site-packages\\matplotlib\\mpl-data\\matplotlibrc\n"
     ]
    }
   ],
   "source": [
    "print('설정파일위치 :',mat.matplotlib_fname()) # 이위치에 설치하면 영구적으로 사용가능하다 (단 가끔 사용 못함)"
   ]
  },
  {
   "cell_type": "code",
   "execution_count": 14,
   "id": "c64a413a-6dc8-4d8d-b480-c27955637daa",
   "metadata": {},
   "outputs": [
    {
     "data": {
      "text/plain": [
       "10.0"
      ]
     },
     "execution_count": 14,
     "metadata": {},
     "output_type": "execute_result"
    }
   ],
   "source": [
    "mat.rcParams['font.size']"
   ]
  },
  {
   "cell_type": "code",
   "execution_count": 15,
   "id": "e68f3a00-73c0-4644-a60d-1580b41d1086",
   "metadata": {},
   "outputs": [
    {
     "data": {
      "text/plain": [
       "['NanumPen']"
      ]
     },
     "execution_count": 15,
     "metadata": {},
     "output_type": "execute_result"
    }
   ],
   "source": [
    "mat.rcParams['font.family']"
   ]
  },
  {
   "cell_type": "code",
   "execution_count": 21,
   "id": "d7f7e527-bdf6-4256-9e23-36b15223df2b",
   "metadata": {},
   "outputs": [],
   "source": [
    "mat.rcParams['font.size'] = 20\n",
    "#옆에 절대 ttf.로 하는 거 쓰지말기 (파일 이름, 폰트 이름이 다름)\n",
    "mat.rcParams['font.family'] = 'NanumGothic'"
   ]
  },
  {
   "cell_type": "code",
   "execution_count": 17,
   "id": "d07c81a9-17e6-4647-b149-7771982abf65",
   "metadata": {},
   "outputs": [
    {
     "data": {
      "text/plain": [
       "20.0"
      ]
     },
     "execution_count": 17,
     "metadata": {},
     "output_type": "execute_result"
    }
   ],
   "source": [
    "mat.rcParams['font.size']"
   ]
  },
  {
   "cell_type": "code",
   "execution_count": 18,
   "id": "b09333ee-3974-48b0-be0b-8c8590de4b47",
   "metadata": {},
   "outputs": [
    {
     "data": {
      "text/plain": [
       "['NanumPen']"
      ]
     },
     "execution_count": 18,
     "metadata": {},
     "output_type": "execute_result"
    }
   ],
   "source": [
    "mat.rcParams['font.family'] "
   ]
  },
  {
   "cell_type": "code",
   "execution_count": 22,
   "id": "205be2dc-ba28-4a45-93fd-ab7e86ea972e",
   "metadata": {},
   "outputs": [
    {
     "data": {
      "text/plain": [
       "Text(0, 0.5, '가격')"
      ]
     },
     "execution_count": 22,
     "metadata": {},
     "output_type": "execute_result"
    },
    {
     "data": {
      "image/png": "[encoded data removed]",
      "text/plain": [
       "<Figure size 432x288 with 1 Axes>"
      ]
     },
     "metadata": {
      "needs_background": "light"
     },
     "output_type": "display_data"
    }
   ],
   "source": [
    "plt.plot(range(40),data,'r')\n",
    "plt.title('시간별 가격 추이')\n",
    "plt.xlabel('시간(분)')\n",
    "plt.ylabel('가격')"
   ]
  },
  {
   "cell_type": "code",
   "execution_count": null,
   "id": "420501cc-f6a4-46c7-aecd-f4d2a3cf75ae",
   "metadata": {},
   "outputs": [],
   "source": []
  },
  {
   "cell_type": "code",
   "execution_count": null,
   "id": "6af8fc23-057b-48f9-916e-b801d4224fc2",
   "metadata": {},
   "outputs": [],
   "source": []
  }
 ],
 "metadata": {
  "kernelspec": {
   "display_name": "Python 3",
   "language": "python",
   "name": "python3"
  },
  "language_info": {
   "codemirror_mode": {
    "name": "ipython",
    "version": 3
   },
   "file_extension": ".py",
   "mimetype": "text/x-python",
   "name": "python",
   "nbconvert_exporter": "python",
   "pygments_lexer": "ipython3",
   "version": "3.8.8"
  }
 },
 "nbformat": 4,
 "nbformat_minor": 5
}
