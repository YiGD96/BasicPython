{
 "cells": [
  {
   "cell_type": "code",
   "execution_count": 1,
   "id": "e748b216-53f4-473f-9ddf-cb48a4c14474",
   "metadata": {},
   "outputs": [],
   "source": [
    "def add(a,b):\n",
    "    return a+b"
   ]
  },
  {
   "cell_type": "code",
   "execution_count": 2,
   "id": "d11a18c1-f8ca-432b-bc20-c82156f521c1",
   "metadata": {},
   "outputs": [
    {
     "data": {
      "text/plain": [
       "7"
      ]
     },
     "execution_count": 2,
     "metadata": {},
     "output_type": "execute_result"
    }
   ],
   "source": [
    "add(b=5, a=2)"
   ]
  },
  {
   "cell_type": "code",
   "execution_count": 10,
   "id": "d80fb002-d447-4fbe-a7ce-ba598669cd5f",
   "metadata": {},
   "outputs": [],
   "source": [
    "def add_many(choice,*args):       # *는 여러값 넣고 싶을때 (단 마지막에만 붙여야 한다.)\n",
    "    print(type(args))\n",
    "    print(args)"
   ]
  },
  {
   "cell_type": "code",
   "execution_count": 11,
   "id": "afeed942-05e7-4461-998f-dfa4fa077a96",
   "metadata": {},
   "outputs": [
    {
     "name": "stdout",
     "output_type": "stream",
     "text": [
      "<class 'tuple'>\n",
      "(2, 3, 4, 5, 6, 7, 8, 9)\n"
     ]
    }
   ],
   "source": [
    "add_many(1,2,3,4,5,6,7,8,9)"
   ]
  },
  {
   "cell_type": "code",
   "execution_count": 12,
   "id": "5203cd54-adfd-4f29-aac0-1949df25a9e8",
   "metadata": {},
   "outputs": [],
   "source": [
    "def add_many(*args,choice=1):\n",
    "    print(type(args))\n",
    "    print(args)"
   ]
  },
  {
   "cell_type": "code",
   "execution_count": 13,
   "id": "d54d78eb-6064-432b-aa34-d0b8b7cc07f3",
   "metadata": {},
   "outputs": [
    {
     "name": "stdout",
     "output_type": "stream",
     "text": [
      "<class 'tuple'>\n",
      "(1, 2, 3, 4, 5, 6, 7, 8, 9)\n"
     ]
    }
   ],
   "source": [
    "add_many(1,2,3,4,5,6,7,8,9)"
   ]
  },
  {
   "cell_type": "code",
   "execution_count": 14,
   "id": "0c79a816-d2c5-4e3f-81c1-a72ea0680667",
   "metadata": {},
   "outputs": [
    {
     "name": "stdout",
     "output_type": "stream",
     "text": [
      "<class 'tuple'>\n",
      "(1, 2, 3, 4, 5, 6, 7, 8)\n"
     ]
    }
   ],
   "source": [
    "add_many(1,2,3,4,5,6,7,8,choice=654)"
   ]
  },
  {
   "cell_type": "code",
   "execution_count": 19,
   "id": "ceafdd15-fbba-44ad-86f2-290d61acbf71",
   "metadata": {},
   "outputs": [],
   "source": [
    "def print_kw(**args):\n",
    "    print(args)"
   ]
  },
  {
   "cell_type": "code",
   "execution_count": 20,
   "id": "3e76f7ab-3703-42d6-94eb-9012085c7c71",
   "metadata": {},
   "outputs": [
    {
     "name": "stdout",
     "output_type": "stream",
     "text": [
      "{'id': 1, 'name': 2}\n"
     ]
    }
   ],
   "source": [
    "print_kw(id=1, name=2)"
   ]
  },
  {
   "cell_type": "code",
   "execution_count": 21,
   "id": "322d97f2-b5e8-42b3-bdf8-cb3fb1b8694b",
   "metadata": {},
   "outputs": [
    {
     "name": "stdout",
     "output_type": "stream",
     "text": [
      "1\n",
      "None\n"
     ]
    }
   ],
   "source": [
    "a=1\n",
    "def vartest(a):\n",
    "    a+=1\n",
    "\n",
    "print(a)\n",
    "print(vartest(a))"
   ]
  },
  {
   "cell_type": "code",
   "execution_count": null,
   "id": "a4bc7033-6ac7-4839-bb46-d49c68d71e56",
   "metadata": {},
   "outputs": [],
   "source": []
  }
 ],
 "metadata": {
  "kernelspec": {
   "display_name": "Python 3",
   "language": "python",
   "name": "python3"
  },
  "language_info": {
   "codemirror_mode": {
    "name": "ipython",
    "version": 3
   },
   "file_extension": ".py",
   "mimetype": "text/x-python",
   "name": "python",
   "nbconvert_exporter": "python",
   "pygments_lexer": "ipython3",
   "version": "3.8.8"
  }
 },
 "nbformat": 4,
 "nbformat_minor": 5
}
