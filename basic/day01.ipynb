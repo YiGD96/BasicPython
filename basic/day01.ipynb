{
 "cells": [
  {
   "cell_type": "code",
   "execution_count": 1,
   "source": [
    "1+1"
   ],
   "outputs": [
    {
     "output_type": "execute_result",
     "data": {
      "text/plain": [
       "2"
      ]
     },
     "metadata": {},
     "execution_count": 1
    }
   ],
   "metadata": {}
  },
  {
   "cell_type": "code",
   "execution_count": 15,
   "source": [
    "a=3\r\n",
    "if a>1:\r\n",
    "    print(\"hi\")\r\n",
    "    print('hi2')"
   ],
   "outputs": [
    {
     "output_type": "stream",
     "name": "stdout",
     "text": [
      "hi\n",
      "hi2\n"
     ]
    }
   ],
   "metadata": {}
  },
  {
   "cell_type": "code",
   "execution_count": 14,
   "source": [
    "input('숫자를 입력하세요')"
   ],
   "outputs": [
    {
     "output_type": "stream",
     "name": "stdout",
     "text": [
      "숫자를 입력하세요 3\n"
     ]
    },
    {
     "output_type": "execute_result",
     "data": {
      "text/plain": [
       "'3'"
      ]
     },
     "metadata": {},
     "execution_count": 14
    }
   ],
   "metadata": {}
  },
  {
   "cell_type": "code",
   "execution_count": null,
   "source": [
    "과일의 갯수를 입력 받아서 1박스에 넣어준다.\r\n",
    "몇박스 몇개의 과일이 남는지 출력하시오."
   ],
   "outputs": [],
   "metadata": {}
  },
  {
   "cell_type": "code",
   "execution_count": 18,
   "source": [
    "box = int(input(\"박스에 들어갈 갯수 : \"))\r\n",
    "fruit = int(input(\"과일 갯수 : \"))\r\n",
    "a = box//fruit\r\n",
    "b = box%fruit\r\n",
    "\r\n",
    "print(a, '박스', b, '개 남음')"
   ],
   "outputs": [
    {
     "output_type": "stream",
     "name": "stdout",
     "text": [
      "박스에 들어갈 갯수 :  3\n",
      "과일 갯수 :  7\n"
     ]
    },
    {
     "output_type": "stream",
     "name": "stdout",
     "text": [
      "0 박스 3 개 남음\n"
     ]
    }
   ],
   "metadata": {}
  },
  {
   "cell_type": "code",
   "execution_count": 24,
   "source": [
    "1.0000+1.1"
   ],
   "outputs": [
    {
     "output_type": "execute_result",
     "data": {
      "text/plain": [
       "2.1"
      ]
     },
     "metadata": {},
     "execution_count": 24
    }
   ],
   "metadata": {}
  },
  {
   "cell_type": "code",
   "execution_count": 28,
   "source": [
    "a='abcxzxfsdafsdfasdfasdf'\r\n",
    "b='asdfasdfasdf'\r\n",
    "print(len(a))\r\n",
    "#마지막만 print안써도 됨\r\n",
    "len(b)"
   ],
   "outputs": [
    {
     "output_type": "stream",
     "name": "stdout",
     "text": [
      "22\n"
     ]
    },
    {
     "output_type": "execute_result",
     "data": {
      "text/plain": [
       "12"
      ]
     },
     "metadata": {},
     "execution_count": 28
    }
   ],
   "metadata": {}
  },
  {
   "cell_type": "code",
   "execution_count": 30,
   "source": [
    "type('ㄴㅅ')"
   ],
   "outputs": [
    {
     "output_type": "execute_result",
     "data": {
      "text/plain": [
       "str"
      ]
     },
     "metadata": {},
     "execution_count": 30
    }
   ],
   "metadata": {}
  },
  {
   "cell_type": "code",
   "execution_count": 35,
   "source": [
    "a='abcdefghi'\r\n",
    "if a[-3:] == 'ghi' :\r\n",
    "    print('collect')\r\n",
    "print(a[0:3])"
   ],
   "outputs": [
    {
     "output_type": "stream",
     "name": "stdout",
     "text": [
      "collect\n",
      "abc\n"
     ]
    }
   ],
   "metadata": {}
  },
  {
   "cell_type": "code",
   "execution_count": 37,
   "source": [
    "a='''12\r\n",
    "34\r\n",
    "56'''\r\n",
    "print(a[:6])"
   ],
   "outputs": [
    {
     "output_type": "stream",
     "name": "stdout",
     "text": [
      "12\n",
      "34\n",
      "\n"
     ]
    }
   ],
   "metadata": {}
  },
  {
   "cell_type": "code",
   "execution_count": 42,
   "source": [
    "a = '010101-1234567'\r\n",
    "year = a[:2]\r\n",
    "moth = a[2:4]\r\n",
    "day = a[4:6]\r\n",
    "gender = a[7]\r\n",
    "print('year :',year,'\\nmoth :',moth,'\\nday :',day,'\\ngender :',gender)"
   ],
   "outputs": [
    {
     "output_type": "stream",
     "name": "stdout",
     "text": [
      "year : 01 \n",
      "moth : 01 \n",
      "day : 01 \n",
      "gender : 1\n"
     ]
    }
   ],
   "metadata": {}
  },
  {
   "cell_type": "code",
   "execution_count": 44,
   "source": [
    "a = '010101-1234567'\r\n",
    "year = a[:2]\r\n",
    "month = a[2:4]\r\n",
    "day = a[4:6]\r\n",
    "gender = int(a[7])\r\n",
    "print('year : %s \\nmonth : %s\\nday : %s\\ngender : %d' %(year, month, day, gender))"
   ],
   "outputs": [
    {
     "output_type": "stream",
     "name": "stdout",
     "text": [
      "year : 01 \n",
      "month : 01\n",
      "day : 01\n",
      "gender : 1\n"
     ]
    }
   ],
   "metadata": {}
  },
  {
   "cell_type": "code",
   "execution_count": 32,
   "source": [
    "'%.5f' %313.141592"
   ],
   "outputs": [
    {
     "output_type": "execute_result",
     "data": {
      "text/plain": [
       "'313.14159'"
      ]
     },
     "metadata": {},
     "execution_count": 32
    }
   ],
   "metadata": {}
  },
  {
   "cell_type": "code",
   "execution_count": 53,
   "source": [
    "print(\"I eat {} apples {}\".format(3, 'LoL'))\r\n",
    "print(\"I eat {1} apples {0}\".format(3, 'LoL')) # index 순서\r\n",
    "print(\"I eat {number} apples {sss}\".format(number=3, sss='LoL'))"
   ],
   "outputs": [
    {
     "output_type": "stream",
     "name": "stdout",
     "text": [
      "I eat 3 apples LoL\n",
      "I eat LoL apples 3\n",
      "I eat 3 apples LoL\n"
     ]
    }
   ],
   "metadata": {}
  },
  {
   "cell_type": "code",
   "execution_count": 65,
   "source": [
    "print('{:>10}'.format('HI'))\r\n",
    "print('{:<10}'.format('HI'))\r\n",
    "print('{:^10}'.format('HI'))\r\n",
    "print('{:=^10}'.format('HI'))\r\n",
    "\r\n",
    "#낮은 버전에서 안쓰이지만 유용한 것\r\n",
    "name='홍길동'\r\n",
    "age = 30\r\n",
    "print(f'나의 이름은 {name}입니다. 나이는 {age+1}입니다.')\r\n",
    "print(f'{\"hi\":<10}')\r\n",
    "print(f'{\"hi\":>10}')\r\n",
    "print(f'{\"hi\":^10}')"
   ],
   "outputs": [
    {
     "output_type": "stream",
     "name": "stdout",
     "text": [
      "        HI\n",
      "HI        \n",
      "    HI    \n",
      "====HI====\n",
      "나의 이름은 홍길동입니다. 나이는 31입니다.\n",
      "hi        \n",
      "        hi\n",
      "    hi    \n"
     ]
    }
   ],
   "metadata": {}
  },
  {
   "cell_type": "code",
   "execution_count": 33,
   "source": [
    "a=\"Python is the best choice\"\r\n",
    "print(a.find('t')) # 없으면 -1\r\n",
    "a.index('t') # 없으면 오류"
   ],
   "outputs": [
    {
     "output_type": "stream",
     "name": "stdout",
     "text": [
      "2\n"
     ]
    },
    {
     "output_type": "execute_result",
     "data": {
      "text/plain": [
       "2"
      ]
     },
     "metadata": {},
     "execution_count": 33
    }
   ],
   "metadata": {}
  },
  {
   "cell_type": "code",
   "execution_count": null,
   "source": [
    "이메일을 입력받아서 아이디만 추출하기 (find를 쓰기)"
   ],
   "outputs": [],
   "metadata": {}
  },
  {
   "cell_type": "code",
   "execution_count": 35,
   "source": [
    "email = input(\"이메일을 입력하시오\")\r\n",
    "index = email.find('@')\r\n",
    "print(index)\r\n",
    "email[:index]"
   ],
   "outputs": [
    {
     "output_type": "stream",
     "name": "stdout",
     "text": [
      "이메일을 입력하시오 asd@navger\n"
     ]
    },
    {
     "output_type": "stream",
     "name": "stdout",
     "text": [
      "3\n"
     ]
    },
    {
     "output_type": "execute_result",
     "data": {
      "text/plain": [
       "'asd'"
      ]
     },
     "metadata": {},
     "execution_count": 35
    }
   ],
   "metadata": {}
  },
  {
   "cell_type": "code",
   "execution_count": 79,
   "source": [
    "print('-'.join('abcd'))\r\n",
    "print('-'.join(['1111','2222','3333']))\r\n",
    "\r\n",
    "# 반대 split"
   ],
   "outputs": [
    {
     "output_type": "stream",
     "name": "stdout",
     "text": [
      "a-b-c-d\n",
      "1111-2222-3333\n"
     ]
    }
   ],
   "metadata": {}
  },
  {
   "cell_type": "code",
   "execution_count": 81,
   "source": [
    "a= \" hi \"\r\n",
    "a.lstrip()"
   ],
   "outputs": [
    {
     "output_type": "execute_result",
     "data": {
      "text/plain": [
       "'hi '"
      ]
     },
     "metadata": {},
     "execution_count": 81
    }
   ],
   "metadata": {}
  },
  {
   "cell_type": "code",
   "execution_count": 82,
   "source": [
    "a.rstrip()"
   ],
   "outputs": [
    {
     "output_type": "execute_result",
     "data": {
      "text/plain": [
       "' hi'"
      ]
     },
     "metadata": {},
     "execution_count": 82
    }
   ],
   "metadata": {}
  },
  {
   "cell_type": "code",
   "execution_count": 83,
   "source": [
    "####################################리스트"
   ],
   "outputs": [],
   "metadata": {}
  },
  {
   "cell_type": "code",
   "execution_count": 87,
   "source": [
    "a=[1,2,[3,4,[5,6,[7,8]]]]\n",
    "a[2][2][2]"
   ],
   "outputs": [
    {
     "output_type": "execute_result",
     "data": {
      "text/plain": [
       "[7, 8]"
      ]
     },
     "metadata": {},
     "execution_count": 87
    }
   ],
   "metadata": {}
  },
  {
   "cell_type": "code",
   "execution_count": 91,
   "source": [
    "장바구니 = []\n",
    "item = input('장 목록 : ')\n",
    "장바구니.append(item)\n",
    "[print(장바구니)]"
   ],
   "outputs": [
    {
     "output_type": "stream",
     "name": "stdout",
     "text": [
      "장 목록 :  만두\n"
     ]
    },
    {
     "output_type": "stream",
     "name": "stdout",
     "text": [
      "['만두']\n"
     ]
    },
    {
     "output_type": "execute_result",
     "data": {
      "text/plain": [
       "[None]"
      ]
     },
     "metadata": {},
     "execution_count": 91
    }
   ],
   "metadata": {}
  },
  {
   "cell_type": "code",
   "execution_count": 94,
   "source": [
    "장바구니.extend(['쌀', '화분']) # 리스트 형식으로 안 들어가짐\n",
    "장바구니"
   ],
   "outputs": [
    {
     "output_type": "execute_result",
     "data": {
      "text/plain": [
       "['만두', '쌀', '화분', '쌀', '화분', '쌀', '화분']"
      ]
     },
     "metadata": {},
     "execution_count": 94
    }
   ],
   "metadata": {}
  },
  {
   "cell_type": "code",
   "execution_count": 36,
   "source": [
    "a=[1,4,3,2]"
   ],
   "outputs": [],
   "metadata": {}
  },
  {
   "cell_type": "code",
   "execution_count": 37,
   "source": [
    "a.sort()\n",
    "a"
   ],
   "outputs": [
    {
     "output_type": "execute_result",
     "data": {
      "text/plain": [
       "[1, 2, 3, 4]"
      ]
     },
     "metadata": {},
     "execution_count": 37
    }
   ],
   "metadata": {}
  },
  {
   "cell_type": "code",
   "execution_count": 98,
   "source": [
    "a.sort(reverse=True) # 데이터 순서 바뀜"
   ],
   "outputs": [],
   "metadata": {}
  },
  {
   "cell_type": "code",
   "execution_count": 100,
   "source": [
    "a"
   ],
   "outputs": [
    {
     "output_type": "execute_result",
     "data": {
      "text/plain": [
       "[1, 4, 3, 2]"
      ]
     },
     "metadata": {},
     "execution_count": 100
    }
   ],
   "metadata": {}
  },
  {
   "cell_type": "code",
   "execution_count": 101,
   "source": [
    "sorted(a) # 출력에서만 순서바뀜 (원본은 바꾸지 않음)"
   ],
   "outputs": [
    {
     "output_type": "execute_result",
     "data": {
      "text/plain": [
       "[1, 2, 3, 4]"
      ]
     },
     "metadata": {},
     "execution_count": 101
    }
   ],
   "metadata": {}
  },
  {
   "cell_type": "code",
   "execution_count": 102,
   "source": [
    "a"
   ],
   "outputs": [
    {
     "output_type": "execute_result",
     "data": {
      "text/plain": [
       "[1, 4, 3, 2]"
      ]
     },
     "metadata": {},
     "execution_count": 102
    }
   ],
   "metadata": {}
  },
  {
   "cell_type": "code",
   "execution_count": 105,
   "source": [
    "a=['a','b','c']\n",
    "print(a.index('b'))    # 못찾으면 error\n",
    "a.insert(0,'k')\n",
    "print(a)"
   ],
   "outputs": [
    {
     "output_type": "stream",
     "name": "stdout",
     "text": [
      "1\n",
      "['k', 'a', 'b', 'c']\n"
     ]
    }
   ],
   "metadata": {}
  },
  {
   "cell_type": "code",
   "execution_count": 107,
   "source": [
    "a=[1,2,3,4,5,1,2,3,4,5]\n",
    "a.remove(3) # 처음 만나는 3제거\n",
    "a"
   ],
   "outputs": [
    {
     "output_type": "execute_result",
     "data": {
      "text/plain": [
       "[1, 2, 4, 5, 1, 2, 3, 4, 5]"
      ]
     },
     "metadata": {},
     "execution_count": 107
    }
   ],
   "metadata": {}
  },
  {
   "cell_type": "code",
   "execution_count": 38,
   "source": [
    "a=[1,2,3,4,5,1,2,3,4,5]\n",
    "a.pop(3) # remove와 똑같지만 지울때 뭐가 지워지는지 알려줌"
   ],
   "outputs": [
    {
     "output_type": "execute_result",
     "data": {
      "text/plain": [
       "4"
      ]
     },
     "metadata": {},
     "execution_count": 38
    }
   ],
   "metadata": {}
  },
  {
   "cell_type": "code",
   "execution_count": 39,
   "source": [
    "a"
   ],
   "outputs": [
    {
     "output_type": "execute_result",
     "data": {
      "text/plain": [
       "[1, 2, 3, 5, 1, 2, 3, 4, 5]"
      ]
     },
     "metadata": {},
     "execution_count": 39
    }
   ],
   "metadata": {}
  },
  {
   "cell_type": "markdown",
   "source": [
    "tuple"
   ],
   "metadata": {}
  },
  {
   "cell_type": "code",
   "execution_count": 112,
   "source": [
    "t1=()\n",
    "t2=(1,) #1개만 쓸때는 , 써줘야 함"
   ],
   "outputs": [],
   "metadata": {}
  },
  {
   "cell_type": "markdown",
   "source": [
    "딕셔너리"
   ],
   "metadata": {}
  },
  {
   "cell_type": "code",
   "execution_count": 43,
   "source": [
    "a={1:'aa'}   #{key, value}       key는 정수나 문자만\n",
    "a[2]='bb'\n",
    "a"
   ],
   "outputs": [
    {
     "output_type": "execute_result",
     "data": {
      "text/plain": [
       "{1: 'aa', 2: 'bb'}"
      ]
     },
     "metadata": {},
     "execution_count": 43
    }
   ],
   "metadata": {}
  },
  {
   "cell_type": "code",
   "execution_count": 10,
   "source": [
    "print(a.keys()) # 이 방식이 메모리를 들먹음\n",
    "print(a.values())\n",
    "\n",
    "print(list(a.keys()))\n",
    "print(list(a.values()))"
   ],
   "outputs": [
    {
     "output_type": "stream",
     "name": "stdout",
     "text": [
      "dict_keys([1, 2])\n",
      "dict_values(['aa', 'bb'])\n",
      "[1, 2]\n",
      "['aa', 'bb']\n"
     ]
    }
   ],
   "metadata": {}
  },
  {
   "cell_type": "code",
   "execution_count": 44,
   "source": [
    "print(a[1]) # 이건 없는 값 넣으면 오류처리\n",
    "print(a.get(1))\n",
    "print(a.get(3)) # 없어도 오류처리 안함 \n",
    "print(a.get(3,'번호없음')) # 디폴트값이 없을때 조절가능함"
   ],
   "outputs": [
    {
     "output_type": "stream",
     "name": "stdout",
     "text": [
      "aa\n",
      "aa\n",
      "None\n",
      "번호없음\n"
     ]
    }
   ],
   "metadata": {}
  },
  {
   "cell_type": "code",
   "execution_count": 19,
   "source": [
    "print(1 in a)\n",
    "print('aa' in a.values())"
   ],
   "outputs": [
    {
     "output_type": "stream",
     "name": "stdout",
     "text": [
      "True\n",
      "True\n"
     ]
    }
   ],
   "metadata": {}
  },
  {
   "cell_type": "markdown",
   "source": [
    "집합 자료형 Set"
   ],
   "metadata": {}
  },
  {
   "cell_type": "code",
   "execution_count": 20,
   "source": [
    "# 집합 자료형 key값만 존재 (중복이 빠짐)\n",
    "s1 = set([1,2,3,3,4,1,5])\n",
    "s1"
   ],
   "outputs": [
    {
     "output_type": "execute_result",
     "data": {
      "text/plain": [
       "{1, 2, 3, 4, 5}"
      ]
     },
     "metadata": {},
     "execution_count": 20
    }
   ],
   "metadata": {}
  },
  {
   "cell_type": "code",
   "execution_count": 26,
   "source": [
    "from copy import copy\n",
    "a=[1,2,3]\n",
    "b = copy(a)\n",
    "b"
   ],
   "outputs": [
    {
     "output_type": "execute_result",
     "data": {
      "text/plain": [
       "[1, 2, 3]"
      ]
     },
     "metadata": {},
     "execution_count": 26
    }
   ],
   "metadata": {}
  },
  {
   "cell_type": "code",
   "execution_count": 28,
   "source": [
    "print(id(a))\n",
    "print(id(b))"
   ],
   "outputs": [
    {
     "output_type": "stream",
     "name": "stdout",
     "text": [
      "1885194836544\n",
      "1885194632832\n"
     ]
    }
   ],
   "metadata": {}
  },
  {
   "cell_type": "code",
   "execution_count": 45,
   "source": [
    "a = set([1,2,3,45])"
   ],
   "outputs": [],
   "metadata": {}
  },
  {
   "cell_type": "code",
   "execution_count": 46,
   "source": [
    "a"
   ],
   "outputs": [
    {
     "output_type": "execute_result",
     "data": {
      "text/plain": [
       "{1, 2, 3, 45}"
      ]
     },
     "metadata": {},
     "execution_count": 46
    }
   ],
   "metadata": {}
  },
  {
   "cell_type": "code",
   "execution_count": null,
   "source": [],
   "outputs": [],
   "metadata": {}
  }
 ],
 "metadata": {
  "kernelspec": {
   "display_name": "Python 3",
   "language": "python",
   "name": "python3"
  },
  "language_info": {
   "codemirror_mode": {
    "name": "ipython",
    "version": 3
   },
   "file_extension": ".py",
   "mimetype": "text/x-python",
   "name": "python",
   "nbconvert_exporter": "python",
   "pygments_lexer": "ipython3",
   "version": "3.8.8"
  }
 },
 "nbformat": 4,
 "nbformat_minor": 5
}