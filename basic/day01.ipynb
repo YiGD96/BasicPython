{
 "cells": [
  {
   "cell_type": "code",
   "execution_count": 1,
   "id": "471a5ecd-cc6d-4a27-bb2e-89e867c94fb6",
   "metadata": {},
   "outputs": [
    {
     "data": {
      "text/plain": [
       "2"
      ]
     },
     "execution_count": 1,
     "metadata": {},
     "output_type": "execute_result"
    }
   ],
   "source": [
    "1+1"
   ]
  },
  {
   "cell_type": "code",
   "execution_count": 15,
   "id": "23f72750-b81d-42be-ae4a-964fb250f585",
   "metadata": {},
   "outputs": [
    {
     "name": "stdout",
     "output_type": "stream",
     "text": [
      "hi\n",
      "hi2\n"
     ]
    }
   ],
   "source": [
    "a=3\n",
    "if a>1:\n",
    "    print(\"hi\")\n",
    "    print('hi2')"
   ]
  },
  {
   "cell_type": "code",
   "execution_count": 14,
   "id": "477e4da1-104f-4c4c-85e6-55392cba77f9",
   "metadata": {},
   "outputs": [
    {
     "name": "stdin",
     "output_type": "stream",
     "text": [
      "숫자를 입력하세요 3\n"
     ]
    },
    {
     "data": {
      "text/plain": [
       "'3'"
      ]
     },
     "execution_count": 14,
     "metadata": {},
     "output_type": "execute_result"
    }
   ],
   "source": [
    "input('숫자를 입력하세요')"
   ]
  },
  {
   "cell_type": "raw",
   "id": "7c06c5df-6ef6-407c-82ad-2ca0a1b88369",
   "metadata": {},
   "source": [
    "과일의 갯수를 입력 받아서 1박스에 넣어준다.\n",
    "몇박스 몇개의 과일이 남는지 출력하시오."
   ]
  },
  {
   "cell_type": "code",
   "execution_count": 18,
   "id": "545863dc-5169-4009-b9eb-46bfa0a379a8",
   "metadata": {},
   "outputs": [
    {
     "name": "stdin",
     "output_type": "stream",
     "text": [
      "박스에 들어갈 갯수 :  3\n",
      "과일 갯수 :  7\n"
     ]
    },
    {
     "name": "stdout",
     "output_type": "stream",
     "text": [
      "0 박스 3 개 남음\n"
     ]
    }
   ],
   "source": [
    "box = int(input(\"박스에 들어갈 갯수 : \"))\n",
    "fruit = int(input(\"과일 갯수 : \"))\n",
    "a = box//fruit\n",
    "b = box%fruit\n",
    "\n",
    "print(a, '박스', b, '개 남음')"
   ]
  },
  {
   "cell_type": "code",
   "execution_count": 24,
   "id": "7f94bebd-1930-4a0e-83f8-5bfa401cfac4",
   "metadata": {},
   "outputs": [
    {
     "data": {
      "text/plain": [
       "2.1"
      ]
     },
     "execution_count": 24,
     "metadata": {},
     "output_type": "execute_result"
    }
   ],
   "source": [
    "1.0000+1.1"
   ]
  },
  {
   "cell_type": "code",
   "execution_count": 28,
   "id": "6a7349ac-cc11-4905-85c8-91a374edd0f3",
   "metadata": {},
   "outputs": [
    {
     "name": "stdout",
     "output_type": "stream",
     "text": [
      "22\n"
     ]
    },
    {
     "data": {
      "text/plain": [
       "12"
      ]
     },
     "execution_count": 28,
     "metadata": {},
     "output_type": "execute_result"
    }
   ],
   "source": [
    "a='abcxzxfsdafsdfasdfasdf'\n",
    "b='asdfasdfasdf'\n",
    "print(len(a))\n",
    "#마지막만 print안써도 됨\n",
    "len(b)"
   ]
  },
  {
   "cell_type": "code",
   "execution_count": 30,
   "id": "8c1599e1-0232-45fe-b59d-270dc1b581d2",
   "metadata": {},
   "outputs": [
    {
     "data": {
      "text/plain": [
       "str"
      ]
     },
     "execution_count": 30,
     "metadata": {},
     "output_type": "execute_result"
    }
   ],
   "source": [
    "type('ㄴㅅ')"
   ]
  },
  {
   "cell_type": "code",
   "execution_count": 35,
   "id": "6f810e4c-e8a9-495b-b696-a9ec38cd9907",
   "metadata": {},
   "outputs": [
    {
     "name": "stdout",
     "output_type": "stream",
     "text": [
      "collect\n",
      "abc\n"
     ]
    }
   ],
   "source": [
    "a='abcdefghi'\n",
    "if a[-3:] == 'ghi' :\n",
    "    print('collect')\n",
    "print(a[0:3])"
   ]
  },
  {
   "cell_type": "code",
   "execution_count": 37,
   "id": "73701f29-47ec-4db7-b597-a179533e8694",
   "metadata": {},
   "outputs": [
    {
     "name": "stdout",
     "output_type": "stream",
     "text": [
      "12\n",
      "34\n",
      "\n"
     ]
    }
   ],
   "source": [
    "a='''12\n",
    "34\n",
    "56'''\n",
    "print(a[:6])"
   ]
  },
  {
   "cell_type": "code",
   "execution_count": 42,
   "id": "4f285588-0538-4386-8041-2bf5abfc2b24",
   "metadata": {},
   "outputs": [
    {
     "name": "stdout",
     "output_type": "stream",
     "text": [
      "year : 01 \n",
      "moth : 01 \n",
      "day : 01 \n",
      "gender : 1\n"
     ]
    }
   ],
   "source": [
    "a = '010101-1234567'\n",
    "year = a[:2]\n",
    "moth = a[2:4]\n",
    "day = a[4:6]\n",
    "gender = a[7]\n",
    "print('year :',year,'\\nmoth :',moth,'\\nday :',day,'\\ngender :',gender)"
   ]
  },
  {
   "cell_type": "code",
   "execution_count": 44,
   "id": "c5a3b6c6-7a43-4df1-a147-7bcd29820515",
   "metadata": {},
   "outputs": [
    {
     "name": "stdout",
     "output_type": "stream",
     "text": [
      "year : 01 \n",
      "month : 01\n",
      "day : 01\n",
      "gender : 1\n"
     ]
    }
   ],
   "source": [
    "a = '010101-1234567'\n",
    "year = a[:2]\n",
    "month = a[2:4]\n",
    "day = a[4:6]\n",
    "gender = int(a[7])\n",
    "print('year : %s \\nmonth : %s\\nday : %s\\ngender : %d' %(year, month, day, gender))"
   ]
  },
  {
   "cell_type": "code",
   "execution_count": 32,
   "id": "c1d5ea38-d0fb-42a9-b61f-5e1c801a2b2d",
   "metadata": {},
   "outputs": [
    {
     "data": {
      "text/plain": [
       "'313.14159'"
      ]
     },
     "execution_count": 32,
     "metadata": {},
     "output_type": "execute_result"
    }
   ],
   "source": [
    "'%.5f' %313.141592"
   ]
  },
  {
   "cell_type": "code",
   "execution_count": 53,
   "id": "33f422b9-c372-444b-a912-b5a868e85d1f",
   "metadata": {},
   "outputs": [
    {
     "name": "stdout",
     "output_type": "stream",
     "text": [
      "I eat 3 apples LoL\n",
      "I eat LoL apples 3\n",
      "I eat 3 apples LoL\n"
     ]
    }
   ],
   "source": [
    "print(\"I eat {} apples {}\".format(3, 'LoL'))\n",
    "print(\"I eat {1} apples {0}\".format(3, 'LoL')) # index 순서\n",
    "print(\"I eat {number} apples {sss}\".format(number=3, sss='LoL'))"
   ]
  },
  {
   "cell_type": "code",
   "execution_count": 65,
   "id": "b8c8cdb2-fe00-40eb-9d9f-5a9b22603066",
   "metadata": {},
   "outputs": [
    {
     "name": "stdout",
     "output_type": "stream",
     "text": [
      "        HI\n",
      "HI        \n",
      "    HI    \n",
      "====HI====\n",
      "나의 이름은 홍길동입니다. 나이는 31입니다.\n",
      "hi        \n",
      "        hi\n",
      "    hi    \n"
     ]
    }
   ],
   "source": [
    "print('{:>10}'.format('HI'))\n",
    "print('{:<10}'.format('HI'))\n",
    "print('{:^10}'.format('HI'))\n",
    "print('{:=^10}'.format('HI'))\n",
    "\n",
    "#낮은 버전에서 안쓰이지만 유용한 것\n",
    "name='홍길동'\n",
    "age = 30\n",
    "print(f'나의 이름은 {name}입니다. 나이는 {age+1}입니다.')\n",
    "print(f'{\"hi\":<10}')\n",
    "print(f'{\"hi\":>10}')\n",
    "print(f'{\"hi\":^10}')"
   ]
  },
  {
   "cell_type": "code",
   "execution_count": 33,
   "id": "88eddf51-2e85-4118-ae00-d1ece48cc690",
   "metadata": {},
   "outputs": [
    {
     "name": "stdout",
     "output_type": "stream",
     "text": [
      "2\n"
     ]
    },
    {
     "data": {
      "text/plain": [
       "2"
      ]
     },
     "execution_count": 33,
     "metadata": {},
     "output_type": "execute_result"
    }
   ],
   "source": [
    "a=\"Python is the best choice\"\n",
    "print(a.find('t')) # 없으면 -1\n",
    "a.index('t') # 없으면 오류"
   ]
  },
  {
   "cell_type": "raw",
   "id": "31525921-d418-4fde-91c4-3c08339438aa",
   "metadata": {},
   "source": [
    "이메일을 입력받아서 아이디만 추출하기 (find를 쓰기)"
   ]
  },
  {
   "cell_type": "code",
   "execution_count": 35,
   "id": "b3dda6ed-6ff7-432f-8efe-3d1be33e3e3c",
   "metadata": {},
   "outputs": [
    {
     "name": "stdin",
     "output_type": "stream",
     "text": [
      "이메일을 입력하시오 asd@navger\n"
     ]
    },
    {
     "name": "stdout",
     "output_type": "stream",
     "text": [
      "3\n"
     ]
    },
    {
     "data": {
      "text/plain": [
       "'asd'"
      ]
     },
     "execution_count": 35,
     "metadata": {},
     "output_type": "execute_result"
    }
   ],
   "source": [
    "email = input(\"이메일을 입력하시오\")\n",
    "index = email.find('@')\n",
    "print(index)\n",
    "email[:index]"
   ]
  },
  {
   "cell_type": "code",
   "execution_count": 79,
   "id": "0cf81604-6ede-49ab-ad94-12c5a72ce0b1",
   "metadata": {},
   "outputs": [
    {
     "name": "stdout",
     "output_type": "stream",
     "text": [
      "a-b-c-d\n",
      "1111-2222-3333\n"
     ]
    }
   ],
   "source": [
    "print('-'.join('abcd'))\n",
    "print('-'.join(['1111','2222','3333']))\n",
    "\n",
    "# 반대 split"
   ]
  },
  {
   "cell_type": "code",
   "execution_count": 81,
   "id": "52f9dc54-e2a3-4e82-ad69-c4a14ef31fd9",
   "metadata": {},
   "outputs": [
    {
     "data": {
      "text/plain": [
       "'hi '"
      ]
     },
     "execution_count": 81,
     "metadata": {},
     "output_type": "execute_result"
    }
   ],
   "source": [
    "a= \" hi \"\n",
    "a.lstrip()"
   ]
  },
  {
   "cell_type": "code",
   "execution_count": 82,
   "id": "e6fd04a4-952e-4fd9-a54d-1b5e24184225",
   "metadata": {},
   "outputs": [
    {
     "data": {
      "text/plain": [
       "' hi'"
      ]
     },
     "execution_count": 82,
     "metadata": {},
     "output_type": "execute_result"
    }
   ],
   "source": [
    "a.rstrip()"
   ]
  },
  {
   "cell_type": "code",
   "execution_count": 83,
   "id": "214b8783-a0e3-4a13-a583-77d20c383cb0",
   "metadata": {},
   "outputs": [],
   "source": [
    "####################################리스트"
   ]
  },
  {
   "cell_type": "code",
   "execution_count": 87,
   "id": "0b020c94-86e2-4c17-8577-38ea4e00acd0",
   "metadata": {},
   "outputs": [
    {
     "data": {
      "text/plain": [
       "[7, 8]"
      ]
     },
     "execution_count": 87,
     "metadata": {},
     "output_type": "execute_result"
    }
   ],
   "source": [
    "a=[1,2,[3,4,[5,6,[7,8]]]]\n",
    "a[2][2][2]"
   ]
  },
  {
   "cell_type": "code",
   "execution_count": 91,
   "id": "69529e27-b469-4758-8df0-5c8e5bb593e4",
   "metadata": {},
   "outputs": [
    {
     "name": "stdin",
     "output_type": "stream",
     "text": [
      "장 목록 :  만두\n"
     ]
    },
    {
     "name": "stdout",
     "output_type": "stream",
     "text": [
      "['만두']\n"
     ]
    },
    {
     "data": {
      "text/plain": [
       "[None]"
      ]
     },
     "execution_count": 91,
     "metadata": {},
     "output_type": "execute_result"
    }
   ],
   "source": [
    "장바구니 = []\n",
    "item = input('장 목록 : ')\n",
    "장바구니.append(item)\n",
    "[print(장바구니)]"
   ]
  },
  {
   "cell_type": "code",
   "execution_count": 94,
   "id": "c05f87e8-1cb0-497c-9cc9-97d6a70f3e88",
   "metadata": {},
   "outputs": [
    {
     "data": {
      "text/plain": [
       "['만두', '쌀', '화분', '쌀', '화분', '쌀', '화분']"
      ]
     },
     "execution_count": 94,
     "metadata": {},
     "output_type": "execute_result"
    }
   ],
   "source": [
    "장바구니.extend(['쌀', '화분']) # 리스트 형식으로 안 들어가짐\n",
    "장바구니"
   ]
  },
  {
   "cell_type": "code",
   "execution_count": 36,
   "id": "9fa669d9-8c28-4985-ada2-346d5b7b9b28",
   "metadata": {},
   "outputs": [],
   "source": [
    "a=[1,4,3,2]"
   ]
  },
  {
   "cell_type": "code",
   "execution_count": 37,
   "id": "db6fdbd4-76a1-44f6-a12e-d77d4c3162e4",
   "metadata": {},
   "outputs": [
    {
     "data": {
      "text/plain": [
       "[1, 2, 3, 4]"
      ]
     },
     "execution_count": 37,
     "metadata": {},
     "output_type": "execute_result"
    }
   ],
   "source": [
    "a.sort()\n",
    "a"
   ]
  },
  {
   "cell_type": "code",
   "execution_count": 98,
   "id": "1501430b-cc3d-41bc-8998-c680c9fb9403",
   "metadata": {},
   "outputs": [],
   "source": [
    "a.sort(reverse=True) # 데이터 순서 바뀜"
   ]
  },
  {
   "cell_type": "code",
   "execution_count": 100,
   "id": "b09cb4ef-478e-4c63-bece-797de4808016",
   "metadata": {},
   "outputs": [
    {
     "data": {
      "text/plain": [
       "[1, 4, 3, 2]"
      ]
     },
     "execution_count": 100,
     "metadata": {},
     "output_type": "execute_result"
    }
   ],
   "source": [
    "a"
   ]
  },
  {
   "cell_type": "code",
   "execution_count": 101,
   "id": "08d4281a-4fb6-4e41-8769-e022d970c652",
   "metadata": {},
   "outputs": [
    {
     "data": {
      "text/plain": [
       "[1, 2, 3, 4]"
      ]
     },
     "execution_count": 101,
     "metadata": {},
     "output_type": "execute_result"
    }
   ],
   "source": [
    "sorted(a) # 출력에서만 순서바뀜 (원본은 바꾸지 않음)"
   ]
  },
  {
   "cell_type": "code",
   "execution_count": 102,
   "id": "c0af97fb-50f5-4eed-8a8c-81bd9df5f6e7",
   "metadata": {},
   "outputs": [
    {
     "data": {
      "text/plain": [
       "[1, 4, 3, 2]"
      ]
     },
     "execution_count": 102,
     "metadata": {},
     "output_type": "execute_result"
    }
   ],
   "source": [
    "a"
   ]
  },
  {
   "cell_type": "code",
   "execution_count": 105,
   "id": "9d436b10-e11c-412f-bcca-5fc4e603ddb7",
   "metadata": {},
   "outputs": [
    {
     "name": "stdout",
     "output_type": "stream",
     "text": [
      "1\n",
      "['k', 'a', 'b', 'c']\n"
     ]
    }
   ],
   "source": [
    "a=['a','b','c']\n",
    "print(a.index('b'))    # 못찾으면 error\n",
    "a.insert(0,'k')\n",
    "print(a)"
   ]
  },
  {
   "cell_type": "code",
   "execution_count": 107,
   "id": "40ec426c-38fe-4ad8-8602-5160a4df170c",
   "metadata": {},
   "outputs": [
    {
     "data": {
      "text/plain": [
       "[1, 2, 4, 5, 1, 2, 3, 4, 5]"
      ]
     },
     "execution_count": 107,
     "metadata": {},
     "output_type": "execute_result"
    }
   ],
   "source": [
    "a=[1,2,3,4,5,1,2,3,4,5]\n",
    "a.remove(3) # 처음 만나는 3제거\n",
    "a"
   ]
  },
  {
   "cell_type": "code",
   "execution_count": 38,
   "id": "04222ebf-507b-4c26-b2d8-fa65c3f735aa",
   "metadata": {},
   "outputs": [
    {
     "data": {
      "text/plain": [
       "4"
      ]
     },
     "execution_count": 38,
     "metadata": {},
     "output_type": "execute_result"
    }
   ],
   "source": [
    "a=[1,2,3,4,5,1,2,3,4,5]\n",
    "a.pop(3) # remove와 똑같지만 지울때 뭐가 지워지는지 알려줌"
   ]
  },
  {
   "cell_type": "code",
   "execution_count": 39,
   "id": "e26fc37d-cb89-44c0-b37b-6b41031e23fc",
   "metadata": {},
   "outputs": [
    {
     "data": {
      "text/plain": [
       "[1, 2, 3, 5, 1, 2, 3, 4, 5]"
      ]
     },
     "execution_count": 39,
     "metadata": {},
     "output_type": "execute_result"
    }
   ],
   "source": [
    "a"
   ]
  },
  {
   "cell_type": "markdown",
   "id": "153596ac-b759-4cbc-b930-a0d06505ad09",
   "metadata": {},
   "source": [
    "tuple"
   ]
  },
  {
   "cell_type": "code",
   "execution_count": 112,
   "id": "cd251584-2042-42fc-bce2-1e17efb796f4",
   "metadata": {},
   "outputs": [],
   "source": [
    "t1=()\n",
    "t2=(1,) #1개만 쓸때는 , 써줘야 함"
   ]
  },
  {
   "cell_type": "markdown",
   "id": "e2be98d7-aecd-405c-8616-5ee405cd4918",
   "metadata": {},
   "source": [
    "딕셔너리"
   ]
  },
  {
   "cell_type": "code",
   "execution_count": 43,
   "id": "e4641872-cfff-4f71-be2d-75a4b1a461ae",
   "metadata": {},
   "outputs": [
    {
     "data": {
      "text/plain": [
       "{1: 'aa', 2: 'bb'}"
      ]
     },
     "execution_count": 43,
     "metadata": {},
     "output_type": "execute_result"
    }
   ],
   "source": [
    "a={1:'aa'}   #{key, value}       key는 정수나 문자만\n",
    "a[2]='bb'\n",
    "a"
   ]
  },
  {
   "cell_type": "code",
   "execution_count": 10,
   "id": "4ff075f9-d19e-4f2d-9842-35214583743a",
   "metadata": {},
   "outputs": [
    {
     "name": "stdout",
     "output_type": "stream",
     "text": [
      "dict_keys([1, 2])\n",
      "dict_values(['aa', 'bb'])\n",
      "[1, 2]\n",
      "['aa', 'bb']\n"
     ]
    }
   ],
   "source": [
    "print(a.keys()) # 이 방식이 메모리를 들먹음\n",
    "print(a.values())\n",
    "\n",
    "print(list(a.keys()))\n",
    "print(list(a.values()))"
   ]
  },
  {
   "cell_type": "code",
   "execution_count": 44,
   "id": "b4b0a5e2-3571-4e0d-ad58-2e493ff905ba",
   "metadata": {},
   "outputs": [
    {
     "name": "stdout",
     "output_type": "stream",
     "text": [
      "aa\n",
      "aa\n",
      "None\n",
      "번호없음\n"
     ]
    }
   ],
   "source": [
    "print(a[1]) # 이건 없는 값 넣으면 오류처리\n",
    "print(a.get(1))\n",
    "print(a.get(3)) # 없어도 오류처리 안함 \n",
    "print(a.get(3,'번호없음')) # 디폴트값이 없을때 조절가능함"
   ]
  },
  {
   "cell_type": "code",
   "execution_count": 19,
   "id": "f746f7d4-a117-40ff-b2b3-65b940358586",
   "metadata": {},
   "outputs": [
    {
     "name": "stdout",
     "output_type": "stream",
     "text": [
      "True\n",
      "True\n"
     ]
    }
   ],
   "source": [
    "print(1 in a)\n",
    "print('aa' in a.values())"
   ]
  },
  {
   "cell_type": "markdown",
   "id": "4c8f4bee-7a3e-4469-b165-a21399b4a74c",
   "metadata": {},
   "source": [
    "집합 자료형 Set"
   ]
  },
  {
   "cell_type": "code",
   "execution_count": 20,
   "id": "e5189d40-f584-4f41-a6ae-38b6652b9137",
   "metadata": {},
   "outputs": [
    {
     "data": {
      "text/plain": [
       "{1, 2, 3, 4, 5}"
      ]
     },
     "execution_count": 20,
     "metadata": {},
     "output_type": "execute_result"
    }
   ],
   "source": [
    "# 집합 자료형 key값만 존재 (중복이 빠짐)\n",
    "s1 = set([1,2,3,3,4,1,5])\n",
    "s1"
   ]
  },
  {
   "cell_type": "code",
   "execution_count": 26,
   "id": "822df83c-045d-45c9-8da3-8d2e6a2be66d",
   "metadata": {},
   "outputs": [
    {
     "data": {
      "text/plain": [
       "[1, 2, 3]"
      ]
     },
     "execution_count": 26,
     "metadata": {},
     "output_type": "execute_result"
    }
   ],
   "source": [
    "from copy import copy\n",
    "a=[1,2,3]\n",
    "b = copy(a)\n",
    "b"
   ]
  },
  {
   "cell_type": "code",
   "execution_count": 28,
   "id": "8b9be2cc-9989-43ab-847b-8df6e204b0a8",
   "metadata": {},
   "outputs": [
    {
     "name": "stdout",
     "output_type": "stream",
     "text": [
      "1885194836544\n",
      "1885194632832\n"
     ]
    }
   ],
   "source": [
    "print(id(a))\n",
    "print(id(b))"
   ]
  },
  {
   "cell_type": "code",
   "execution_count": 45,
   "id": "1fed9fdb-4073-4ad3-819e-61120efa2df4",
   "metadata": {},
   "outputs": [],
   "source": [
    "a = set([1,2,3,45])"
   ]
  },
  {
   "cell_type": "code",
   "execution_count": 46,
   "id": "506930f0-c667-48a5-9635-e26a4cb95ba7",
   "metadata": {},
   "outputs": [
    {
     "data": {
      "text/plain": [
       "{1, 2, 3, 45}"
      ]
     },
     "execution_count": 46,
     "metadata": {},
     "output_type": "execute_result"
    }
   ],
   "source": [
    "a"
   ]
  },
  {
   "cell_type": "code",
   "execution_count": null,
   "id": "44f795a0-2f24-4c21-a73a-b61bef751052",
   "metadata": {},
   "outputs": [],
   "source": []
  }
 ],
 "metadata": {
  "kernelspec": {
   "display_name": "Python 3",
   "language": "python",
   "name": "python3"
  },
  "language_info": {
   "codemirror_mode": {
    "name": "ipython",
    "version": 3
   },
   "file_extension": ".py",
   "mimetype": "text/x-python",
   "name": "python",
   "nbconvert_exporter": "python",
   "pygments_lexer": "ipython3",
   "version": "3.8.8"
  }
 },
 "nbformat": 4,
 "nbformat_minor": 5
}
