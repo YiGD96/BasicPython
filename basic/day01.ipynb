{
 "cells": [
  {
   "cell_type": "code",
   "execution_count": null,
   "id": "aac75cc7",
   "metadata": {},
   "outputs": [],
   "source": [
    "ctrl + enter : 결과창\r\n",
    "shift + enter : 새 script창"
   ]
  },
  {
   "cell_type": "code",
   "execution_count": 1,
   "id": "ad85711d",
   "metadata": {},
   "outputs": [
    {
     "name": "stdout",
     "output_type": "stream",
     "text": [
      "hi\n",
      "hi2\n"
     ]
    }
   ],
   "source": [
    "a=3\r\n",
    "if a>1:\r\n",
    "    print(\"hi\")\r\n",
    "    print('hi2')"
   ]
  },
  {
   "cell_type": "code",
   "execution_count": null,
   "id": "d65304d4",
   "metadata": {},
   "outputs": [],
   "source": [
    "input('숫자를 입력하세요')"
   ]
  },
  {
   "cell_type": "code",
   "execution_count": null,
   "id": "ea20941c",
   "metadata": {},
   "outputs": [],
   "source": [
    "과일의 갯수를 입력 받아서 1박스에 넣어준다.\r\n",
    "몇박스 몇개의 과일이 남는지 출력하시오."
   ]
  },
  {
   "cell_type": "code",
   "execution_count": null,
   "id": "32817836",
   "metadata": {},
   "outputs": [],
   "source": [
    "box = int(input(\"박스에 들어갈 갯수 : \"))\r\n",
    "fruit = int(input(\"과일 갯수 : \"))\r\n",
    "a = box//fruit\r\n",
    "b = box%fruit\r\n",
    "\r\n",
    "print(a, '박스', b, '개 남음')"
   ]
  },
  {
   "cell_type": "code",
   "execution_count": null,
   "id": "779dab6e",
   "metadata": {},
   "outputs": [],
   "source": [
    "1.0000+1.1"
   ]
  },
  {
   "cell_type": "code",
   "execution_count": null,
   "id": "c3040661",
   "metadata": {},
   "outputs": [],
   "source": [
    "a='abcxzxfsdafs'\r\n",
    "b='asdfasf'\r\n",
    "print(len(a))\r\n",
    "#마지막만 print안써도 됨\r\n",
    "len(b)"
   ]
  },
  {
   "cell_type": "code",
   "execution_count": null,
   "id": "8f22fc4d",
   "metadata": {},
   "outputs": [],
   "source": [
    "print(type('asdf'))\n",
    "print(type(1234))"
   ]
  },
  {
   "cell_type": "code",
   "execution_count": null,
   "id": "2cdca2df",
   "metadata": {},
   "outputs": [],
   "source": [
    "a='abcdefghi'\r\n",
    "if a[-3:] == 'ghi' :\r\n",
    "    print('collect')\r\n",
    "print(a[0:3])"
   ]
  },
  {
   "cell_type": "code",
   "execution_count": null,
   "id": "65178090",
   "metadata": {},
   "outputs": [],
   "source": [
    "a='''12\r\n",
    "34\r\n",
    "56'''\r\n",
    "print(a[:6])"
   ]
  },
  {
   "cell_type": "code",
   "execution_count": null,
   "id": "8db0afec",
   "metadata": {},
   "outputs": [],
   "source": [
    "a = '010101-1234567'\r\n",
    "year = a[:2]\r\n",
    "moth = a[2:4]\r\n",
    "day = a[4:6]\r\n",
    "gender = a[7]\r\n",
    "print('year :',year,'\\nmoth :',moth,'\\nday :',day,'\\ngender :',gender)"
   ]
  },
  {
   "cell_type": "code",
   "execution_count": null,
   "id": "d09caffb",
   "metadata": {},
   "outputs": [],
   "source": [
    "a = '010101-1234567'\r\n",
    "year = a[:2]\r\n",
    "month = a[2:4]\r\n",
    "day = a[4:6]\r\n",
    "gender = int(a[7])\r\n",
    "print('year : %s \\nmonth : %s\\nday : %s\\ngender : %d' %(year, month, day, gender))"
   ]
  },
  {
   "cell_type": "code",
   "execution_count": null,
   "id": "e630d674",
   "metadata": {},
   "outputs": [],
   "source": [
    "'%.5f' %313.141592"
   ]
  },
  {
   "cell_type": "code",
   "execution_count": null,
   "id": "4c693bb5",
   "metadata": {},
   "outputs": [],
   "source": [
    "print(\"I eat {} apples {}\".format(3, 'LoL'))\r\n",
    "print(\"I eat {1} apples {0}\".format(3, 'LoL')) # index 순서\r\n",
    "print(\"I eat {number} apples {sss}\".format(number=3, sss='LoL'))"
   ]
  },
  {
   "cell_type": "code",
   "execution_count": null,
   "id": "224a90ea",
   "metadata": {},
   "outputs": [],
   "source": [
    "print('{:>10}'.format('HI'))\r\n",
    "print('{:<10}'.format('HI'))\r\n",
    "print('{:^10}'.format('HI'))\r\n",
    "print('{:=^10}'.format('HI'))\r\n",
    "\r\n",
    "#낮은 버전에서 안쓰이지만 유용한 것\r\n",
    "name='홍길동'\r\n",
    "age = 30\r\n",
    "print(f'나의 이름은 {name}입니다. 나이는 {age+1}입니다.')\r\n",
    "print(f'{\"hi\":<10}')\r\n",
    "print(f'{\"hi\":>10}')\r\n",
    "print(f'{\"hi\":^10}')"
   ]
  },
  {
   "cell_type": "code",
   "execution_count": null,
   "id": "43da2d1e",
   "metadata": {},
   "outputs": [],
   "source": [
    "a=\"Python is the best choice\"\r\n",
    "print(a.find('t')) # 없으면 -1\r\n",
    "a.index('t'      ) # 없으면      오류"
   ]
  },
  {
   "cell_type": "raw",
   "id": "02973086",
   "metadata": {},
   "source": [
    "이메일을 입력받아서 아이디만 추출하기 (find를 쓰기)"
   ]
  },
  {
   "cell_type": "code",
   "execution_count": null,
   "id": "aa045c0f",
   "metadata": {},
   "outputs": [],
   "source": [
    "email = input(\"이메일을 입력하시오\")\r\n",
    "index = email.find('@')\r\n",
    "print(index)\r\n",
    "email[:index]"
   ]
  },
  {
   "cell_type": "code",
   "execution_count": null,
   "id": "b7ae2bb8",
   "metadata": {},
   "outputs": [],
   "source": [
    "print('-'.join('abcd'))\r\n",
    "print('-'.join(['1111','2222','3333']))                                                                              \r\n",
    "\r\n",
    "# 반대 sp     lit"
   ]
  },
  {
   "cell_type": "code",
   "execution_count": null,
   "id": "8955e39e",
   "metadata": {},
   "outputs": [],
   "source": [
    "a= \" hi \"\n",
    "ㅔ갸ㅜ\n",
    "a.lstrip()"
   ]
  },
  {
   "cell_type": "raw",
   "id": "b282fa6d",
   "metadata": {},
   "source": [
    "####################################리스트"
   ]
  },
  {
   "cell_type": "code",
   "execution_count": null,
   "id": "a9cf850f",
   "metadata": {},
   "outputs": [],
   "source": [
    "a=[1,2,[3,4,[5,6,[7,8]]]]\n",
    "a[2][2][2]"
   ]
  },
  {
   "cell_type": "code",
   "execution_count": null,
   "id": "247bcc3e",
   "metadata": {},
   "outputs": [],
   "source": [
    "장바구니 = []\n",
    "item = input('장 목록 : ')\n",
    "장바구니.append(item)\n",
    "[print(장바구니)]"
   ]
  },
  {
   "cell_type": "code",
   "execution_count": null,
   "id": "55d26218",
   "metadata": {},
   "outputs": [],
   "source": [
    "장바구니.extend(['쌀', '화분']) # 리스트 형식으로 안 들어가짐\n",
    "장바구니"
   ]
  },
  {
   "cell_type": "code",
   "execution_count": null,
   "id": "5bb9b674",
   "metadata": {},
   "outputs": [],
   "source": [
    "a=[1,4,3,2]"
   ]
  },
  {
   "cell_type": "code",
   "execution_count": null,
   "id": "8ecf58b4",
   "metadata": {},
   "outputs": [],
   "source": [
    "a.sort()\n",
    "a"
   ]
  },
  {
   "cell_type": "code",
   "execution_count": null,
   "id": "f820b290",
   "metadata": {},
   "outputs": [],
   "source": [
    "a.sort(reverse=True) # 데이터 순서 바뀜"
   ]
  },
  {
   "cell_type": "code",
   "execution_count": null,
   "id": "8ee0b391",
   "metadata": {},
   "outputs": [],
   "source": [
    "a"
   ]
  },
  {
   "cell_type": "code",
   "execution_count": null,
   "id": "b70a8f87",
   "metadata": {},
   "outputs": [],
   "source": [
    "sorted(a) # 출력에서만 순서바뀜 (원본은 바꾸지 않음)"
   ]
  },
  {
   "cell_type": "code",
   "execution_count": null,
   "id": "bac10bc9",
   "metadata": {},
   "outputs": [],
   "source": [
    "a"
   ]
  },
  {
   "cell_type": "code",
   "execution_count": null,
   "id": "87765bc0",
   "metadata": {},
   "outputs": [],
   "source": [
    "a=['a','b','c']\n",
    "print(a.index('b'))    # 못찾으면 error\n",
    "a.insert(0,'k')\n",
    "print(a)"
   ]
  },
  {
   "cell_type": "code",
   "execution_count": null,
   "id": "c36fc23e",
   "metadata": {},
   "outputs": [],
   "source": [
    "a=[1,2,3,4,5,1,2,3,4,5]\n",
    "a.remove(3) # 처음 만나는 3제거\n",
    "a"
   ]
  },
  {
   "cell_type": "code",
   "execution_count": null,
   "id": "b9cdfccf",
   "metadata": {},
   "outputs": [],
   "source": [
    "a=[1,2,3,4,5,1,2,3,4,5]\n",
    "a.pop(3) # remove와 똑같지만 지울때 뭐가 지워지는지 알려줌"
   ]
  },
  {
   "cell_type": "code",
   "execution_count": null,
   "id": "8617d382",
   "metadata": {},
   "outputs": [],
   "source": [
    "a"
   ]
  },
  {
   "cell_type": "markdown",
   "id": "9c1490f1",
   "metadata": {},
   "source": [
    "tuple"
   ]
  },
  {
   "cell_type": "code",
   "execution_count": null,
   "id": "3ec92bba",
   "metadata": {},
   "outputs": [],
   "source": [
    "t1=()\n",
    "t2=(1,) #1개만 쓸때는 , 써줘야 함"
   ]
  },
  {
   "cell_type": "markdown",
   "id": "297a26d8",
   "metadata": {},
   "source": [
    "딕셔너리"
   ]
  },
  {
   "cell_type": "code",
   "execution_count": null,
   "id": "897602c7",
   "metadata": {},
   "outputs": [],
   "source": [
    "a={1:'aa'}   #{key, value}       key는 정수나 문자만\n",
    "a[2]='bb'\n",
    "a"
   ]
  },
  {
   "cell_type": "code",
   "execution_count": null,
   "id": "e8316ae3",
   "metadata": {},
   "outputs": [],
   "source": [
    "print(a.keys()) # 이 방식이 메모리를 들먹음\n",
    "print(a.values())\n",
    "\n",
    "print(list(a.keys()))\n",
    "print(list(a.values()))"
   ]
  },
  {
   "cell_type": "code",
   "execution_count": null,
   "id": "bb0ce495",
   "metadata": {},
   "outputs": [],
   "source": [
    "print(a[1]) # 이건 없는 값 넣으면 오류처리\n",
    "print(a.get(1))\n",
    "print(a.get(3)) # 없어도 오류처리 안함 \n",
    "print(a.get(3,'번호없음')) # 디폴트값이 없을때 조절가능함"
   ]
  },
  {
   "cell_type": "code",
   "execution_count": null,
   "id": "24c3c081",
   "metadata": {},
   "outputs": [],
   "source": [
    "print(1 in a)\n",
    "print('aa' in a.values())"
   ]
  },
  {
   "cell_type": "markdown",
   "id": "d9917cd4",
   "metadata": {},
   "source": [
    "집합 자료형 Set"
   ]
  },
  {
   "cell_type": "code",
   "execution_count": null,
   "id": "42dc570a",
   "metadata": {},
   "outputs": [],
   "source": [
    "# 집합 자료형 key값만 존재 (중복이 빠짐)\n",
    "s1 = set([1,2,3,3,4,1,5])\n",
    "s1"
   ]
  },
  {
   "cell_type": "code",
   "execution_count": null,
   "id": "0c314d03",
   "metadata": {},
   "outputs": [],
   "source": [
    "from copy import copy\n",
    "a=[1,2,3]\n",
    "b = copy(a)\n",
    "b"
   ]
  },
  {
   "cell_type": "code",
   "execution_count": null,
   "id": "ea12509c",
   "metadata": {},
   "outputs": [],
   "source": [
    "print(id(a))\n",
    "print(id(b))"
   ]
  },
  {
   "cell_type": "code",
   "execution_count": null,
   "id": "8979e0e6",
   "metadata": {},
   "outputs": [],
   "source": [
    "a = set([1,2,3,45])"
   ]
  },
  {
   "cell_type": "code",
   "execution_count": null,
   "id": "14b28ef8",
   "metadata": {},
   "outputs": [],
   "source": [
    "a"
   ]
  }
 ],
 "metadata": {
  "kernelspec": {
   "display_name": "Python 3",
   "language": "python",
   "name": "python3"
  },
  "language_info": {
   "codemirror_mode": {
    "name": "ipython",
    "version": 3
   },
   "file_extension": ".py",
   "mimetype": "text/x-python",
   "name": "python",
   "nbconvert_exporter": "python",
   "pygments_lexer": "ipython3",
   "version": "3.8.8"
  }
 },
 "nbformat": 4,
 "nbformat_minor": 5
}
