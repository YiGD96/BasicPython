{
 "cells": [
  {
   "cell_type": "code",
   "execution_count": 6,
   "id": "bb453b57-36cf-44a5-9bda-e6b3ffc0c10a",
   "metadata": {},
   "outputs": [],
   "source": [
    "#instance method - 객체로 호출\n",
    " # 메써드는 객체 레벨로 호출 되기 때문에, 해당 메써드를 호출한 객체에만 영향을 미침\n",
    "class Person:\n",
    "    pass"
   ]
  },
  {
   "cell_type": "code",
   "execution_count": 5,
   "id": "8f8eb34a-cf30-4b22-9243-455d128607f7",
   "metadata": {},
   "outputs": [
    {
     "name": "stdout",
     "output_type": "stream",
     "text": [
      "<class '__main__.Person'> <class '__main__.Person'>\n",
      "<class 'list'> <class 'list'>\n"
     ]
    }
   ],
   "source": [
    "bob = Person()\n",
    "cat = Person()\n",
    "\n",
    "a= list()\n",
    "b= list()\n",
    "\n",
    "print(type(bob), type(cat))\n",
    "print(type(a), type(b))"
   ]
  },
  {
   "cell_type": "code",
   "execution_count": 9,
   "id": "17e7f2aa-cbba-4ab6-9763-3705cdc08f39",
   "metadata": {},
   "outputs": [
    {
     "name": "stdout",
     "output_type": "stream",
     "text": [
      "<__main__.Person2 object at 0x0000024B64835E80> is generated\n",
      "<__main__.Person2 object at 0x0000024B64873070> is generated\n",
      "aron 20\n"
     ]
    }
   ],
   "source": [
    "class Person2:\n",
    "    def __init__(self):       # init 생성자           # self는 관용적으로 붙여줌\n",
    "        print(self, 'is generated')\n",
    "        # 인스턴스 변수\n",
    "        self.name = 'Kate'\n",
    "        self.age = 10\n",
    "\n",
    "p1 = Person2()\n",
    "p2 = Person2()\n",
    "\n",
    "p1.name = 'aron'\n",
    "p1.age = 20\n",
    "\n",
    "print(p1.name, p1.age)"
   ]
  },
  {
   "cell_type": "code",
   "execution_count": 14,
   "id": "6a4e7c43-a309-43e4-86e5-9b02ed9998d5",
   "metadata": {},
   "outputs": [
    {
     "name": "stdout",
     "output_type": "stream",
     "text": [
      "Bob 30\n",
      "Kata 20\n"
     ]
    }
   ],
   "source": [
    "class Person:\n",
    "    def __init__(self, name, age=10):       #age 안넣으면 defaul값 10\n",
    "        self.name = name\n",
    "        self.age = age\n",
    "        \n",
    "p1 = Person('Bob', 30)\n",
    "p2 = Person('Kata', 20)\n",
    "\n",
    "print(p1.name, p1.age)\n",
    "print(p2.name, p2.age)"
   ]
  },
  {
   "cell_type": "code",
   "execution_count": 17,
   "id": "371a3243-6caa-475b-856b-3f5fa2ad210a",
   "metadata": {},
   "outputs": [
    {
     "name": "stdout",
     "output_type": "stream",
     "text": [
      "self :  <__main__.Person object at 0x0000024B65A93490>\n",
      "self :  <__main__.Person object at 0x0000024B65DAAE50>\n",
      "<__main__.Person object at 0x0000024B65A93490>\n",
      "<__main__.Person object at 0x0000024B65DAAE50>\n",
      "self :  <__main__.Person object at 0x0000024B65A93490>\n",
      "aron 은 잠을 잡니다.\n",
      "self :  <__main__.Person object at 0x0000024B65DAAE50>\n",
      "Bob 은 잠을 잡니다.\n"
     ]
    }
   ],
   "source": [
    "class Person:\n",
    "    def __init__(self, name, age):       #age 안넣으면 defaul값 10\n",
    "        print('self : ', self)\n",
    "        self.name = name\n",
    "        self.age = age\n",
    "    \n",
    "    def sleep(self):\n",
    "        print('self : ', self)\n",
    "        print(self.name, '은 잠을 잡니다.')\n",
    "\n",
    "a = Person('aron', 20)\n",
    "b= Person('Bob', 30)\n",
    "\n",
    "print(a)\n",
    "print(b)\n",
    "\n",
    "a.sleep()\n",
    "b.sleep()"
   ]
  },
  {
   "cell_type": "code",
   "execution_count": 25,
   "id": "8343315a-4a9b-4443-bc32-e7af9c74257b",
   "metadata": {},
   "outputs": [
    {
     "name": "stdout",
     "output_type": "stream",
     "text": [
      "현재값은 :  0\n",
      "현재값은 :  1\n",
      "현재값은 :  2\n",
      "====================\n",
      "현재값은 :  0\n",
      "현재값은 :  1\n",
      "현재값은 :  2\n"
     ]
    }
   ],
   "source": [
    "class counter:\n",
    "    def __init__(self):\n",
    "        self.num = 0\n",
    "    \n",
    "    def increment(self):\n",
    "        self.num +=1\n",
    "        \n",
    "    def reset(self):\n",
    "        self.num = 0\n",
    "    \n",
    "    def print_current_value(self):\n",
    "        print('현재값은 : ', self.num)\n",
    "        \n",
    "\n",
    "c1 = counter()\n",
    "c1.print_current_value()\n",
    "c1.increment()\n",
    "c1.print_current_value()\n",
    "c1.increment()\n",
    "c1.print_current_value()\n",
    "print('='*20)\n",
    "c2 = counter()\n",
    "c2.print_current_value()\n",
    "c2.increment()\n",
    "c2.print_current_value()\n",
    "c2.increment()\n",
    "c2.print_current_value()"
   ]
  },
  {
   "cell_type": "code",
   "execution_count": 31,
   "id": "06adea3a-5d64-42bc-9182-fbf5d0ee258b",
   "metadata": {},
   "outputs": [
    {
     "name": "stdout",
     "output_type": "stream",
     "text": [
      "30\n"
     ]
    },
    {
     "data": {
      "text/plain": [
       "200"
      ]
     },
     "execution_count": 31,
     "metadata": {},
     "output_type": "execute_result"
    }
   ],
   "source": [
    "# class method(statice method) - class로 호출\n",
    "#    클래스 메써드의 경우, 클래스 레벨로 호출 되기 때문에 , 클래스 멤버 변수만 변경 가능\n",
    "\n",
    "class Math:\n",
    "    @staticmethod\n",
    "    def add(a,b):\n",
    "        return a+b\n",
    "    \n",
    "    @staticmethod\n",
    "    def multiply(a,b):\n",
    "        return a*b\n",
    "\n",
    "print(Math.add(10,20))\n",
    "Math.multiply(10,20)"
   ]
  },
  {
   "cell_type": "code",
   "execution_count": 59,
   "id": "b15e4a0c-f9a0-4e36-a38a-ec21c686f22d",
   "metadata": {},
   "outputs": [
    {
     "name": "stdout",
     "output_type": "stream",
     "text": [
      "Bob이 BBQ를 먹습니다.\n",
      "Bob이 30분 동안 잡니다.\n",
      "Bob이 10분동안 일합니다.\n"
     ]
    }
   ],
   "source": [
    "class Person:\n",
    "    def __init__(self, name, age):\n",
    "        self.name = name\n",
    "        self.age = age\n",
    "    \n",
    "    def eat(self, food):\n",
    "        print('{}이 {}를 먹습니다.'.format(self.name, food))\n",
    "        \n",
    "    def sleep(self, minute):\n",
    "        print(f'{self.name}이 {minute}분 동안 잡니다.')\n",
    "    \n",
    "    def work(self, minute):\n",
    "        print(f'{self.name}이 {minute}분동안 일합니다.')\n",
    "        \n",
    "              \n",
    "#상속\n",
    "class Student(Person):           # class Student(Person,aaa):  # 뒤에 aaa 하나더 넣어서 다중상속 가능\n",
    "    pass\n",
    "\n",
    "bob = Student('Bob', 25)\n",
    "bob.eat(\"BBQ\")\n",
    "bob.sleep(30)\n",
    "bob.work(10)"
   ]
  },
  {
   "cell_type": "code",
   "execution_count": 62,
   "id": "86cf01d9-744e-48ee-8f50-bcdbfd8a4b01",
   "metadata": {},
   "outputs": [
    {
     "name": "stdout",
     "output_type": "stream",
     "text": [
      "Bob이 BBQ를 먹습니다.\n",
      "Bob이 30분 동안 잡니다.\n",
      "Bob이 10분동안 공부합니다.\n",
      "Cat이 20분동안 업무합니다.\n"
     ]
    }
   ],
   "source": [
    "# method override\n",
    "class Person:\n",
    "    def __init__(self, name, age):\n",
    "        self.name = name\n",
    "        self.age = age\n",
    "    \n",
    "    def eat(self, food):\n",
    "        print('{}이 {}를 먹습니다.'.format(self.name, food))\n",
    "        \n",
    "    def sleep(self, minute):\n",
    "        print(f'{self.name}이 {minute}분 동안 잡니다.')\n",
    "    \n",
    "    def work(self, minute):\n",
    "        print(f'{self.name}이 {minute}분동안 일합니다.')\n",
    "        \n",
    "              \n",
    "#상속 (재정의)\n",
    "class Student(Person):\n",
    "    def work(self, minute):\n",
    "        print(f'{self.name}이 {minute}분동안 공부합니다.')\n",
    "              \n",
    "class Employee(Person):\n",
    "    def work(self, minute):\n",
    "        print(f'{self.name}이 {minute}분동안 업무합니다.')\n",
    "\n",
    "bob = Student('Bob', 25)\n",
    "bob.eat(\"BBQ\")\n",
    "bob.sleep(30)\n",
    "bob.work(10)\n",
    "\n",
    "cat = Employee('Cat', 18)\n",
    "cat.work(20)"
   ]
  },
  {
   "cell_type": "code",
   "execution_count": 77,
   "id": "3aa43d32-8a1a-4ea6-9cd9-a64c46c16b84",
   "metadata": {},
   "outputs": [
    {
     "name": "stdout",
     "output_type": "stream",
     "text": [
      "Bob이 BBQ를 먹습니다.\n",
      "Bob이 30분 동안 잡니다.\n",
      "Bob이 10분동안 일합니다.\n",
      "Bob이 10분동안 공부합니다.\n",
      "Cat이 20분동안 일합니다.\n",
      "Cat이 20분동안 업무합니다.\n"
     ]
    }
   ],
   "source": [
    "# super - 내용추가\n",
    "class Person:\n",
    "    def __init__(self, name, age):\n",
    "        self.name = name\n",
    "        self.age = age\n",
    "    \n",
    "    def eat(self, food):\n",
    "        print('{}이 {}를 먹습니다.'.format(self.name, food))\n",
    "        \n",
    "    def sleep(self, minute):\n",
    "        print(f'{self.name}이 {minute}분 동안 잡니다.')\n",
    "    \n",
    "    def work(self, minute):\n",
    "        print(f'{self.name}이 {minute}분동안 일합니다.')\n",
    "        \n",
    "              \n",
    "class Student(Person):\n",
    "    def work(self, minute):\n",
    "        super().work(minute)\n",
    "        print(f'{self.name}이 {minute}분동안 공부합니다.')\n",
    "              \n",
    "class Employee(Person):\n",
    "    def work(self, minute):\n",
    "        super().work(minute)\n",
    "        print(f'{self.name}이 {minute}분동안 업무합니다.')\n",
    "\n",
    "bob = Student('Bob', 25)\n",
    "bob.eat(\"BBQ\")\n",
    "bob.sleep(30)\n",
    "bob.work(10)\n",
    "\n",
    "cat = Employee('Cat', 18)\n",
    "cat.work(20)"
   ]
  },
  {
   "cell_type": "code",
   "execution_count": null,
   "id": "23ec8b95-b38e-44c6-8220-e89720f65f8c",
   "metadata": {},
   "outputs": [],
   "source": [
    "# super\n",
    "# 특수한 용도의 method (미리 정해진게 있음)\n",
    "class Point:\n",
    "    def __init__(self, x, y):\n",
    "        self.x = x\n",
    "        self.y = y\n",
    "    \n",
    "    def __add__(self, pt):\n",
    "        new_x = self.x + pt\n",
    "        new_y = self.y + pt\n",
    "    \n",
    "    def __\n"
   ]
  }
 ],
 "metadata": {
  "kernelspec": {
   "display_name": "Python 3",
   "language": "python",
   "name": "python3"
  },
  "language_info": {
   "codemirror_mode": {
    "name": "ipython",
    "version": 3
   },
   "file_extension": ".py",
   "mimetype": "text/x-python",
   "name": "python",
   "nbconvert_exporter": "python",
   "pygments_lexer": "ipython3",
   "version": "3.8.8"
  }
 },
 "nbformat": 4,
 "nbformat_minor": 5
}
