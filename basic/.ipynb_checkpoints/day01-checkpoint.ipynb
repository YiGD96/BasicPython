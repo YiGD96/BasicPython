{
 "cells": [
  {
   "cell_type": "code",
   "execution_count": null,
   "source": [
    "ctrl + enter : 결과창\n",
    "shift + enter : 새 script창"
   ],
   "outputs": [],
   "metadata": {}
  },
  {
   "cell_type": "code",
   "execution_count": 1,
   "source": [
    "a=3\n",
    "if a>1:\n",
    "    print(\"hi\")\n",
    "    print('hi2')"
   ],
   "outputs": [
    {
     "output_type": "stream",
     "name": "stdout",
     "text": [
      "hi\n",
      "hi2\n"
     ]
    }
   ],
   "metadata": {}
  },
  {
   "cell_type": "code",
   "execution_count": null,
   "source": [
    "input('숫자를 입력하세요')"
   ],
   "outputs": [],
   "metadata": {}
  },
  {
   "cell_type": "code",
   "execution_count": null,
   "source": [
    "과일의 갯수를 입력 받아서 1박스에 넣어준다.\n",
    "몇박스 몇개의 과일이 남는지 출력하시오."
   ],
   "outputs": [],
   "metadata": {}
  },
  {
   "cell_type": "code",
   "execution_count": null,
   "source": [
    "box = int(input(\"박스에 들어갈 갯수 : \"))\n",
    "fruit = int(input(\"과일 갯수 : \"))\n",
    "a = box//fruit\n",
    "b = box%fruit\n",
    "\n",
    "print(a, '박스', b, '개 남음')"
   ],
   "outputs": [],
   "metadata": {}
  },
  {
   "cell_type": "code",
   "execution_count": null,
   "source": [
    "1.0000+1.1"
   ],
   "outputs": [],
   "metadata": {}
  },
  {
   "cell_type": "code",
   "execution_count": null,
   "source": [
    "a='abcxzxfsdafs'\n",
    "b='asdfasf'\n",
    "print(len(a))\n",
    "#마지막만 print안써도 됨\n",
    "len(b)"
   ],
   "outputs": [],
   "metadata": {}
  },
  {
   "cell_type": "code",
   "execution_count": null,
   "source": [
    "print(type('asdf'))\n",
    "print(type(1234))"
   ],
   "outputs": [],
   "metadata": {}
  },
  {
   "cell_type": "code",
   "execution_count": null,
   "source": [
    "a='abcdefghi'\n",
    "if a[-3:] == 'ghi' :\n",
    "    print('collect')\n",
    "print(a[0:3])"
   ],
   "outputs": [],
   "metadata": {}
  },
  {
   "cell_type": "code",
   "execution_count": null,
   "source": [
    "a='''12\n",
    "34\n",
    "56'''\n",
    "print(a[:6])"
   ],
   "outputs": [],
   "metadata": {}
  },
  {
   "cell_type": "code",
   "execution_count": null,
   "source": [
    "a = '010101-1234567'\n",
    "year = a[:2]\n",
    "moth = a[2:4]\n",
    "day = a[4:6]\n",
    "gender = a[7]\n",
    "print('year :',year,'\\nmoth :',moth,'\\nday :',day,'\\ngender :',gender)"
   ],
   "outputs": [],
   "metadata": {}
  },
  {
   "cell_type": "code",
   "execution_count": null,
   "source": [
    "a = '010101-1234567'\n",
    "year = a[:2]\n",
    "month = a[2:4]\n",
    "day = a[4:6]\n",
    "gender = int(a[7])\n",
    "print('year : %s \\nmonth : %s\\nday : %s\\ngender : %d' %(year, month, day, gender))"
   ],
   "outputs": [],
   "metadata": {}
  },
  {
   "cell_type": "code",
   "execution_count": null,
   "source": [
    "'%.5f' %313.141592"
   ],
   "outputs": [],
   "metadata": {}
  },
  {
   "cell_type": "code",
   "execution_count": null,
   "source": [
    "print(\"I eat {} apples {}\".format(3, 'LoL'))\n",
    "print(\"I eat {1} apples {0}\".format(3, 'LoL')) # index 순서\n",
    "print(\"I eat {number} apples {sss}\".format(number=3, sss='LoL'))"
   ],
   "outputs": [],
   "metadata": {}
  },
  {
   "cell_type": "code",
   "execution_count": null,
   "source": [
    "print('{:>10}'.format('HI'))\n",
    "print('{:<10}'.format('HI'))\n",
    "print('{:^10}'.format('HI'))\n",
    "print('{:=^10}'.format('HI'))\n",
    "\n",
    "#낮은 버전에서 안쓰이지만 유용한 것\n",
    "name='홍길동'\n",
    "age = 30\n",
    "print(f'나의 이름은 {name}입니다. 나이는 {age+1}입니다.')\n",
    "print(f'{\"hi\":<10}')\n",
    "print(f'{\"hi\":>10}')\n",
    "print(f'{\"hi\":^10}')"
   ],
   "outputs": [],
   "metadata": {}
  },
  {
   "cell_type": "code",
   "execution_count": null,
   "source": [
    "a=\"Python is the best choice\"\n",
    "print(a.find('t')) # 없으면 -1\n",
    "a.index('t'      ) # 없으면      오류"
   ],
   "outputs": [],
   "metadata": {}
  },
  {
   "cell_type": "raw",
   "source": [
    "이메일을 입력받아서 아이디만 추출하기 (find를 쓰기)"
   ],
   "metadata": {}
  },
  {
   "cell_type": "code",
   "execution_count": null,
   "source": [
    "email = input(\"이메일을 입력하시오\")\n",
    "index = email.find('@')\n",
    "print(index)\n",
    "email[:index]"
   ],
   "outputs": [],
   "metadata": {}
  },
  {
   "cell_type": "code",
   "execution_count": null,
   "source": [
    "print('-'.join('abcd'))\n",
    "print('-'.join(['1111','2222','3333']))                                                       \n",
    "\n",
    "# 반대 sp     lit"
   ],
   "outputs": [],
   "metadata": {}
  },
  {
   "cell_type": "code",
   "execution_count": null,
   "source": [
    "a= \" hi \"\n",
    "ㅔ갸ㅜ\n",
    "a.lstrip()"
   ],
   "outputs": [],
   "metadata": {}
  },
  {
   "cell_type": "raw",
   "source": [
    "####################################리스트"
   ],
   "metadata": {}
  },
  {
   "cell_type": "code",
   "execution_count": null,
   "source": [
    "a=[1,2,[3,4,[5,6,[7,8]]]]\n",
    "a[2][2][2]"
   ],
   "outputs": [],
   "metadata": {}
  },
  {
   "cell_type": "code",
   "execution_count": null,
   "source": [
    "장바구니 = []\n",
    "item = input('장 목록 : ')\n",
    "장바구니.append(item)\n",
    "[print(장바구니)]"
   ],
   "outputs": [],
   "metadata": {}
  },
  {
   "cell_type": "code",
   "execution_count": null,
   "source": [
    "장바구니.extend(['쌀', '화분']) # 리스트 형식으로 안 들어가짐\n",
    "장바구니"
   ],
   "outputs": [],
   "metadata": {}
  },
  {
   "cell_type": "code",
   "execution_count": null,
   "source": [
    "a=[1,4,3,2]"
   ],
   "outputs": [],
   "metadata": {}
  },
  {
   "cell_type": "code",
   "execution_count": null,
   "source": [
    "a.sort()\n",
    "a"
   ],
   "outputs": [],
   "metadata": {}
  },
  {
   "cell_type": "code",
   "execution_count": null,
   "source": [
    "a.sort(reverse=True) # 데이터 순서 바뀜"
   ],
   "outputs": [],
   "metadata": {}
  },
  {
   "cell_type": "code",
   "execution_count": null,
   "source": [
    "a"
   ],
   "outputs": [],
   "metadata": {}
  },
  {
   "cell_type": "code",
   "execution_count": null,
   "source": [
    "sorted(a) # 출력에서만 순서바뀜 (원본은 바꾸지 않음)"
   ],
   "outputs": [],
   "metadata": {}
  },
  {
   "cell_type": "code",
   "execution_count": null,
   "source": [
    "a"
   ],
   "outputs": [],
   "metadata": {}
  },
  {
   "cell_type": "code",
   "execution_count": null,
   "source": [
    "a=['a','b','c']\n",
    "print(a.index('b'))    # 못찾으면 error\n",
    "a.insert(0,'k')\n",
    "print(a)"
   ],
   "outputs": [],
   "metadata": {}
  },
  {
   "cell_type": "code",
   "execution_count": null,
   "source": [
    "a=[1,2,3,4,5,1,2,3,4,5]\n",
    "a.remove(3) # 처음 만나는 3제거\n",
    "a"
   ],
   "outputs": [],
   "metadata": {}
  },
  {
   "cell_type": "code",
   "execution_count": null,
   "source": [
    "a=[1,2,3,4,5,1,2,3,4,5]\n",
    "a.pop(3) # remove와 똑같지만 지울때 뭐가 지워지는지 알려줌"
   ],
   "outputs": [],
   "metadata": {}
  },
  {
   "cell_type": "code",
   "execution_count": null,
   "source": [
    "a"
   ],
   "outputs": [],
   "metadata": {}
  },
  {
   "cell_type": "markdown",
   "source": [
    "tuple"
   ],
   "metadata": {}
  },
  {
   "cell_type": "code",
   "execution_count": null,
   "source": [
    "t1=()\n",
    "t2=(1,) #1개만 쓸때는 , 써줘야 함"
   ],
   "outputs": [],
   "metadata": {}
  },
  {
   "cell_type": "markdown",
   "source": [
    "딕셔너리"
   ],
   "metadata": {}
  },
  {
   "cell_type": "code",
   "execution_count": null,
   "source": [
    "a={1:'aa'}   #{key, value}       key는 정수나 문자만\n",
    "a[2]='bb'\n",
    "a"
   ],
   "outputs": [],
   "metadata": {}
  },
  {
   "cell_type": "code",
   "execution_count": null,
   "source": [
    "print(a.keys()) # 이 방식이 메모리를 들먹음\n",
    "print(a.values())\n",
    "\n",
    "print(list(a.keys()))\n",
    "print(list(a.values()))"
   ],
   "outputs": [],
   "metadata": {}
  },
  {
   "cell_type": "code",
   "execution_count": null,
   "source": [
    "print(a[1]) # 이건 없는 값 넣으면 오류처리\n",
    "print(a.get(1))\n",
    "print(a.get(3)) # 없어도 오류처리 안함 \n",
    "print(a.get(3,'번호없음')) # 디폴트값이 없을때 조절가능함"
   ],
   "outputs": [],
   "metadata": {}
  },
  {
   "cell_type": "code",
   "execution_count": null,
   "source": [
    "print(1 in a)\n",
    "print('aa' in a.values())"
   ],
   "outputs": [],
   "metadata": {}
  },
  {
   "cell_type": "markdown",
   "source": [
    "집합 자료형 Set"
   ],
   "metadata": {}
  },
  {
   "cell_type": "code",
   "execution_count": null,
   "source": [
    "# 집합 자료형 key값만 존재 (중복이 빠짐)\n",
    "s1 = set([1,2,3,3,4,1,5])\n",
    "s1"
   ],
   "outputs": [],
   "metadata": {}
  },
  {
   "cell_type": "code",
   "execution_count": null,
   "source": [
    "from copy import copy\n",
    "a=[1,2,3]\n",
    "b = copy(a)\n",
    "b"
   ],
   "outputs": [],
   "metadata": {}
  },
  {
   "cell_type": "code",
   "execution_count": null,
   "source": [
    "print(id(a))\n",
    "print(id(b))"
   ],
   "outputs": [],
   "metadata": {}
  },
  {
   "cell_type": "code",
   "execution_count": null,
   "source": [
    "a = set([1,2,3,45])"
   ],
   "outputs": [],
   "metadata": {}
  },
  {
   "cell_type": "code",
   "execution_count": null,
   "source": [
    "a"
   ],
   "outputs": [],
   "metadata": {}
  }
 ],
 "metadata": {
  "kernelspec": {
   "display_name": "Python 3",
   "language": "python",
   "name": "python3"
  },
  "language_info": {
   "codemirror_mode": {
    "name": "ipython",
    "version": 3
   },
   "file_extension": ".py",
   "mimetype": "text/x-python",
   "name": "python",
   "nbconvert_exporter": "python",
   "pygments_lexer": "ipython3",
   "version": "3.8.8"
  }
 },
 "nbformat": 4,
 "nbformat_minor": 5
}