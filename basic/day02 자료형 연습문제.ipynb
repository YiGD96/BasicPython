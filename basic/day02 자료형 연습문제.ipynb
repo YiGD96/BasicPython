{
 "cells": [
  {
   "cell_type": "markdown",
   "id": "be19d837-8766-4654-9dae-fa6c6c465989",
   "metadata": {},
   "source": [
    "# 자료형 연습문제"
   ]
  },
  {
   "cell_type": "markdown",
   "id": "5124e6ca-aa98-4b34-903b-075e2938d4bd",
   "metadata": {},
   "source": [
    "#### Q1"
   ]
  },
  {
   "cell_type": "code",
   "execution_count": 3,
   "id": "8cfe62ba-0491-4049-8cf6-71bdfb7658ef",
   "metadata": {},
   "outputs": [],
   "source": [
    "hong = {'국어':80, '영어':75, '수학':55}"
   ]
  },
  {
   "cell_type": "code",
   "execution_count": 7,
   "id": "4ab62fdc-22d1-4a28-8a2f-479401de1fbd",
   "metadata": {},
   "outputs": [
    {
     "name": "stdout",
     "output_type": "stream",
     "text": [
      "합계 : 210\n"
     ]
    }
   ],
   "source": [
    "print('합계 :',hong['국어']+hong['영어']+hong['수학'])"
   ]
  },
  {
   "cell_type": "markdown",
   "id": "a20c1afb-42d7-4cc7-8308-4878cdb33aa5",
   "metadata": {},
   "source": [
    "#### Q2 \n",
    "13이 홀수인지 구분하라"
   ]
  },
  {
   "cell_type": "code",
   "execution_count": 9,
   "id": "47646fba-8c2d-4f67-8f40-3fb4ed2b3f0e",
   "metadata": {},
   "outputs": [
    {
     "name": "stdout",
     "output_type": "stream",
     "text": [
      "홀수\n"
     ]
    }
   ],
   "source": [
    "if 13%2==1 :\n",
    "    print('홀수')\n",
    "else :\n",
    "    print('짝수')"
   ]
  },
  {
   "cell_type": "markdown",
   "id": "75399369-d12e-4847-b436-1113eae8e992",
   "metadata": {},
   "source": [
    "#### Q3"
   ]
  },
  {
   "cell_type": "code",
   "execution_count": 16,
   "id": "22eda074-ad61-407b-a59f-f0416c681114",
   "metadata": {},
   "outputs": [
    {
     "name": "stdout",
     "output_type": "stream",
     "text": [
      "881120 1068234\n"
     ]
    }
   ],
   "source": [
    "Jumin = '881120-1068234'\n",
    "first = Jumin[:6]\n",
    "second = Jumin[7:]\n",
    "print(first, second)"
   ]
  },
  {
   "cell_type": "markdown",
   "id": "3e0106c5-bc37-410f-9281-70379ddffbfa",
   "metadata": {},
   "source": [
    "#### Q4"
   ]
  },
  {
   "cell_type": "code",
   "execution_count": 18,
   "id": "9310ef65-022a-4df0-96e8-4c6e2fa23a88",
   "metadata": {},
   "outputs": [
    {
     "data": {
      "text/plain": [
       "'1'"
      ]
     },
     "execution_count": 18,
     "metadata": {},
     "output_type": "execute_result"
    }
   ],
   "source": [
    "pin = \"881120-1068234\"\n",
    "pin[7]"
   ]
  },
  {
   "cell_type": "markdown",
   "id": "0ebb2b93-4051-41c7-945e-f0efddef14b3",
   "metadata": {},
   "source": [
    "#### Q5"
   ]
  },
  {
   "cell_type": "code",
   "execution_count": 18,
   "id": "2631ab55-4c5e-4954-a092-f44424d8e6e8",
   "metadata": {},
   "outputs": [
    {
     "data": {
      "text/plain": [
       "'1'"
      ]
     },
     "execution_count": 18,
     "metadata": {},
     "output_type": "execute_result"
    }
   ],
   "source": [
    "a = \"a:b:c:d\"\n",
    "replcae()"
   ]
  },
  {
   "cell_type": "markdown",
   "id": "80cf1d5e-960b-464c-aebe-2310c63ba2cf",
   "metadata": {},
   "source": [
    "#### Q6"
   ]
  },
  {
   "cell_type": "markdown",
   "id": "6ab7a046-07a1-4efd-8653-2120651df8c2",
   "metadata": {},
   "source": [
    "#### Q7"
   ]
  },
  {
   "cell_type": "markdown",
   "id": "34edf5cb-fe5e-4363-ad18-346b52545a87",
   "metadata": {},
   "source": [
    "#### Q8"
   ]
  },
  {
   "cell_type": "markdown",
   "id": "329ec72f-6ede-4808-b348-9a2f4705dc50",
   "metadata": {},
   "source": [
    "#### Q9"
   ]
  },
  {
   "cell_type": "markdown",
   "id": "8128f257-d0ae-4ce3-911e-ddf77526bd37",
   "metadata": {},
   "source": [
    "#### Q10"
   ]
  },
  {
   "cell_type": "markdown",
   "id": "c028aa87-2f62-494e-9bf0-f9a2991cf4c1",
   "metadata": {},
   "source": [
    "#### Q11"
   ]
  },
  {
   "cell_type": "markdown",
   "id": "458f194c-38a4-402d-afae-2fcbf9b20d0f",
   "metadata": {},
   "source": [
    "#### Q12"
   ]
  }
 ],
 "metadata": {
  "kernelspec": {
   "display_name": "Python 3",
   "language": "python",
   "name": "python3"
  },
  "language_info": {
   "codemirror_mode": {
    "name": "ipython",
    "version": 3
   },
   "file_extension": ".py",
   "mimetype": "text/x-python",
   "name": "python",
   "nbconvert_exporter": "python",
   "pygments_lexer": "ipython3",
   "version": "3.8.8"
  }
 },
 "nbformat": 4,
 "nbformat_minor": 5
}
